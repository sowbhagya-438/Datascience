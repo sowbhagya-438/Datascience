{
  "nbformat": 4,
  "nbformat_minor": 0,
  "metadata": {
    "colab": {
      "provenance": []
    },
    "kernelspec": {
      "name": "python3",
      "display_name": "Python 3"
    },
    "language_info": {
      "name": "python"
    }
  },
  "cells": [
    {
      "cell_type": "code",
      "execution_count": null,
      "metadata": {
        "colab": {
          "base_uri": "https://localhost:8080/",
          "height": 36
        },
        "id": "WOr2Knot44ys",
        "outputId": "36026c0f-60d2-4d04-d0d8-e38b4881fd64"
      },
      "outputs": [
        {
          "output_type": "execute_result",
          "data": {
            "text/plain": [
              "'hellotest'"
            ],
            "application/vnd.google.colaboratory.intrinsic+json": {
              "type": "string"
            }
          },
          "metadata": {},
          "execution_count": 1
        }
      ],
      "source": [
        "class Name:\n",
        "  def greet(self):\n",
        "    return \"hello\"+self.name\n",
        "p1=Name()\n",
        "p1.name=\"test\"\n",
        "p1.greet()\n",
        "\n"
      ]
    },
    {
      "cell_type": "code",
      "source": [
        "\n",
        "class Name1:\n",
        "  def __init__(self,name):\n",
        "    self.x=name\n",
        "  def greet(self):\n",
        "    return \"hello\"+self.x\n",
        "d1=Name()\n",
        "d1.name=\"sowbhagya\"\n",
        "d1.greet()\n"
      ],
      "metadata": {
        "colab": {
          "base_uri": "https://localhost:8080/",
          "height": 36
        },
        "id": "iv8ZiZk84-PC",
        "outputId": "7808b9e4-1613-4df4-e9d5-d04afa8ed605"
      },
      "execution_count": null,
      "outputs": [
        {
          "output_type": "execute_result",
          "data": {
            "text/plain": [
              "'hellosowbhagya'"
            ],
            "application/vnd.google.colaboratory.intrinsic+json": {
              "type": "string"
            }
          },
          "metadata": {},
          "execution_count": 4
        }
      ]
    },
    {
      "cell_type": "code",
      "source": [
        "class Marks:\n",
        "  def __init__(self,marks,attendance):\n",
        "    self.marks=marks\n",
        "    self.attendance=attendance\n",
        "  def marks_grade(self):\n",
        "    if self.marks<35:\n",
        "      return \"fail\"\n",
        "    elif self.marks<60:\n",
        "      return \"3rd class\"\n",
        "    elif self.marks<90:\n",
        "      return \"first class\"\n",
        "  def attendance_grade(self):\n",
        "    if self.attendance<100:\n",
        "      return \"fail\"\n",
        "    elif self.attendance<200:\n",
        "      return \"pass\"\n",
        "student1=Marks(60,100)\n",
        "student1.marks_grade()\n"
      ],
      "metadata": {
        "id": "gKxG01Y74-Nm",
        "colab": {
          "base_uri": "https://localhost:8080/",
          "height": 36
        },
        "outputId": "0737892a-4c41-46ad-dc18-13699dab9ee3"
      },
      "execution_count": null,
      "outputs": [
        {
          "output_type": "execute_result",
          "data": {
            "text/plain": [
              "'first class'"
            ],
            "application/vnd.google.colaboratory.intrinsic+json": {
              "type": "string"
            }
          },
          "metadata": {},
          "execution_count": 5
        }
      ]
    },
    {
      "cell_type": "code",
      "source": [
        "class Marks:\n",
        "  def __init__(self,marks,attendance):\n",
        "    self.marks=marks\n",
        "    self.attendance=attendance\n",
        "  def marks_grade(self):\n",
        "    if self.marks<35:\n",
        "      return \"fail\"\n",
        "    elif self.marks<60:\n",
        "      return \"3rd class\"\n",
        "    elif self.marks<90:\n",
        "      return \"first class\"\n",
        "  def attendance_grade(self):\n",
        "    if self.attendance<100:\n",
        "      return \"fail\"\n",
        "    elif self.attendance<200:\n",
        "      return \"pass\"\n",
        "student1=Marks(60,50)\n",
        "student1.attendance_grade( )"
      ],
      "metadata": {
        "id": "hIijT4mC4-KJ",
        "colab": {
          "base_uri": "https://localhost:8080/",
          "height": 36
        },
        "outputId": "77e173f0-a506-4ace-d9b2-1cb52d25da7f"
      },
      "execution_count": null,
      "outputs": [
        {
          "output_type": "execute_result",
          "data": {
            "text/plain": [
              "'fail'"
            ],
            "application/vnd.google.colaboratory.intrinsic+json": {
              "type": "string"
            }
          },
          "metadata": {},
          "execution_count": 9
        }
      ]
    },
    {
      "cell_type": "code",
      "source": [
        "import math\n",
        "math.pi"
      ],
      "metadata": {
        "id": "Y-XQdecv4-Iw",
        "colab": {
          "base_uri": "https://localhost:8080/"
        },
        "outputId": "e999b732-0188-49c4-8b0b-1a2c87b41de4"
      },
      "execution_count": null,
      "outputs": [
        {
          "output_type": "execute_result",
          "data": {
            "text/plain": [
              "3.141592653589793"
            ]
          },
          "metadata": {},
          "execution_count": 10
        }
      ]
    },
    {
      "cell_type": "code",
      "source": [
        "class CircleProperties:\n",
        "  def __init__(self,r):\n",
        "    self.r=r\n",
        "  def area(self):\n",
        "    return math.pi*self.r*self.r\n",
        "  def circ(self):\n",
        "    return math.pi*2*self.r"
      ],
      "metadata": {
        "id": "oUxqEknZ4-E2"
      },
      "execution_count": null,
      "outputs": []
    },
    {
      "cell_type": "code",
      "source": [
        "object1=CircleProperties(20)\n",
        "object1.area()"
      ],
      "metadata": {
        "id": "60QvdLCk4-Dl",
        "colab": {
          "base_uri": "https://localhost:8080/"
        },
        "outputId": "fffa4ada-4803-497a-9eb4-00b01ec3b85d"
      },
      "execution_count": null,
      "outputs": [
        {
          "output_type": "execute_result",
          "data": {
            "text/plain": [
              "1256.6370614359173"
            ]
          },
          "metadata": {},
          "execution_count": 13
        }
      ]
    },
    {
      "cell_type": "code",
      "source": [
        "object1=CircleProperties(20)\n",
        "object1.circ()"
      ],
      "metadata": {
        "id": "Tkjfl-ny4-AU",
        "colab": {
          "base_uri": "https://localhost:8080/"
        },
        "outputId": "c448e8d2-f245-46f8-b50e-796c0d479812"
      },
      "execution_count": null,
      "outputs": [
        {
          "output_type": "execute_result",
          "data": {
            "text/plain": [
              "125.66370614359172"
            ]
          },
          "metadata": {},
          "execution_count": 14
        }
      ]
    },
    {
      "cell_type": "code",
      "source": [
        "object1=CircleProperties(20)\n",
        "object1.r"
      ],
      "metadata": {
        "id": "gP48ybRL49_A",
        "colab": {
          "base_uri": "https://localhost:8080/"
        },
        "outputId": "d8fa44a7-0d1b-431e-c027-dc19d6d7e9e9"
      },
      "execution_count": null,
      "outputs": [
        {
          "output_type": "execute_result",
          "data": {
            "text/plain": [
              "20"
            ]
          },
          "metadata": {},
          "execution_count": 15
        }
      ]
    },
    {
      "cell_type": "code",
      "source": [
        "class Marks:\n",
        "  def __init__(self,marks,attendance):\n",
        "    self.marks=marks\n",
        "    self.attendance=attendance\n",
        "  def attendance_grade(self):\n",
        "    if self.attendance<100:\n",
        "      return \"fail\"\n",
        "    elif self.attendance<=200:\n",
        "      return \"pass\""
      ],
      "metadata": {
        "id": "E7sjzzUd497x"
      },
      "execution_count": null,
      "outputs": []
    },
    {
      "cell_type": "code",
      "source": [
        "student1=Marks(40,200)\n",
        "student1.attendance_grade()"
      ],
      "metadata": {
        "id": "kwmhWEkK496h",
        "colab": {
          "base_uri": "https://localhost:8080/",
          "height": 36
        },
        "outputId": "39f86c7b-e95c-4f34-cbfb-f72b3b44d0fc"
      },
      "execution_count": null,
      "outputs": [
        {
          "output_type": "execute_result",
          "data": {
            "text/plain": [
              "'pass'"
            ],
            "application/vnd.google.colaboratory.intrinsic+json": {
              "type": "string"
            }
          },
          "metadata": {},
          "execution_count": 17
        }
      ]
    },
    {
      "cell_type": "code",
      "source": [
        "student1=Marks(40,200)\n",
        "student1.marks"
      ],
      "metadata": {
        "id": "zeNSd_6D490B",
        "colab": {
          "base_uri": "https://localhost:8080/"
        },
        "outputId": "8c93bd3f-b954-490b-f46a-6c4a7ee47b04"
      },
      "execution_count": null,
      "outputs": [
        {
          "output_type": "execute_result",
          "data": {
            "text/plain": [
              "40"
            ]
          },
          "metadata": {},
          "execution_count": 20
        }
      ]
    },
    {
      "cell_type": "code",
      "source": [
        "class Rectangle:\n",
        "  def __init__(self,length,width):\n",
        "    self.length=length\n",
        "    self.width=width\n",
        "  def area(self):\n",
        "    return self.length*self.width\n",
        "  def perimeter(self):\n",
        "    return 2*(self.length+self.width)\n",
        "  def display(self):\n",
        "    print(f\"{self.width} x{self.length}\")\n"
      ],
      "metadata": {
        "id": "GgTwuhNs49y5"
      },
      "execution_count": null,
      "outputs": []
    },
    {
      "cell_type": "code",
      "source": [
        "object1=Rectangle(40,60)\n",
        "object1.area()"
      ],
      "metadata": {
        "colab": {
          "base_uri": "https://localhost:8080/"
        },
        "id": "E3wxTcKp0DEm",
        "outputId": "f005fcc2-92ec-4dae-e8fb-50a290d4f5e7"
      },
      "execution_count": null,
      "outputs": [
        {
          "output_type": "execute_result",
          "data": {
            "text/plain": [
              "2400"
            ]
          },
          "metadata": {},
          "execution_count": 35
        }
      ]
    },
    {
      "cell_type": "code",
      "source": [
        "object1=Rectangle(40,60)\n",
        "object1.perimeter()"
      ],
      "metadata": {
        "colab": {
          "base_uri": "https://localhost:8080/"
        },
        "id": "Rs4xMY5e0EvI",
        "outputId": "c74915cb-327b-494b-bf75-9b926933ba9a"
      },
      "execution_count": null,
      "outputs": [
        {
          "output_type": "execute_result",
          "data": {
            "text/plain": [
              "200"
            ]
          },
          "metadata": {},
          "execution_count": 36
        }
      ]
    },
    {
      "cell_type": "code",
      "source": [
        "object1.display()"
      ],
      "metadata": {
        "colab": {
          "base_uri": "https://localhost:8080/"
        },
        "id": "uQ5e_tsE0Etw",
        "outputId": "f7c93a4b-4c8f-438e-9a71-4b3e3e4f849f"
      },
      "execution_count": null,
      "outputs": [
        {
          "output_type": "stream",
          "name": "stdout",
          "text": [
            "60 x40\n"
          ]
        }
      ]
    },
    {
      "cell_type": "code",
      "source": [
        "class Circle:\n",
        "  def __init__(self,r):\n",
        "    self.radius=r\n",
        "  def area(self):\n",
        "    return 3.14 * r**2\n",
        "  def circumference(self):\n",
        "    return 2*3.14*self.r\n",
        "  def display(self):\n",
        "    print(\"Radius:\",self.r)"
      ],
      "metadata": {
        "id": "_JJgfRlw0Epi"
      },
      "execution_count": null,
      "outputs": []
    },
    {
      "cell_type": "code",
      "source": [
        "object1=CircleProperties(40)\n",
        "object1.area()"
      ],
      "metadata": {
        "colab": {
          "base_uri": "https://localhost:8080/"
        },
        "id": "Fx6pw9sg0EoD",
        "outputId": "cb9dcdb2-ad01-4d7b-d1e7-63505b8d330e"
      },
      "execution_count": null,
      "outputs": [
        {
          "output_type": "execute_result",
          "data": {
            "text/plain": [
              "5026.548245743669"
            ]
          },
          "metadata": {},
          "execution_count": 51
        }
      ]
    },
    {
      "cell_type": "code",
      "source": [
        "object1=CircleProperties(40)\n",
        "object1.circ()"
      ],
      "metadata": {
        "colab": {
          "base_uri": "https://localhost:8080/"
        },
        "id": "StuMf4yL0Eiw",
        "outputId": "8e626655-c1db-46ee-bae2-77631404933c"
      },
      "execution_count": null,
      "outputs": [
        {
          "output_type": "execute_result",
          "data": {
            "text/plain": [
              "251.32741228718345"
            ]
          },
          "metadata": {},
          "execution_count": 52
        }
      ]
    },
    {
      "cell_type": "code",
      "source": [
        "class Student:\n",
        "  def __init__(self,name,marks):\n",
        "    self.name=name\n",
        "    self.marks=marks\n",
        "  def get_average(self):\n",
        "    return sum(self.marks)/len(self.marks)\n",
        "  def display(self):\n",
        "    print(f\"Name:{self.name},Marks:{self.marks}\")"
      ],
      "metadata": {
        "id": "dUNiXM270EhZ"
      },
      "execution_count": null,
      "outputs": []
    },
    {
      "cell_type": "code",
      "source": [
        "object1=Student(\"sowbhagya\",[20,40,70])\n",
        "print(object1.get_average())"
      ],
      "metadata": {
        "colab": {
          "base_uri": "https://localhost:8080/"
        },
        "id": "gUDqJRFF5jic",
        "outputId": "20a222a8-04a4-4207-e620-38d241176d2d"
      },
      "execution_count": null,
      "outputs": [
        {
          "output_type": "stream",
          "name": "stdout",
          "text": [
            "43.333333333333336\n"
          ]
        }
      ]
    },
    {
      "cell_type": "code",
      "source": [
        "object1=Student(\"sowbhagya\",[20,40,70])\n",
        "object1.display()\n",
        "print(object1.get_average())"
      ],
      "metadata": {
        "colab": {
          "base_uri": "https://localhost:8080/"
        },
        "id": "GdWRIiYf5jfc",
        "outputId": "38312095-9578-4835-9e9f-08aa9ed9fe26"
      },
      "execution_count": null,
      "outputs": [
        {
          "output_type": "stream",
          "name": "stdout",
          "text": [
            "Name:sowbhagya,Marks:[20, 40, 70]\n",
            "43.333333333333336\n"
          ]
        }
      ]
    },
    {
      "cell_type": "code",
      "source": [
        "class Car:\n",
        "  def __init__(self,brand,speed):\n",
        "    self.brand=brand\n",
        "    self.speed=speed\n",
        "  def accelerate(self):\n",
        "    self.speed+=40\n",
        "  def display(self):\n",
        "    print(f\"{self.brand} speed:{self.speed}km/h\")"
      ],
      "metadata": {
        "id": "hWqRcEYr5jcE"
      },
      "execution_count": null,
      "outputs": []
    },
    {
      "cell_type": "code",
      "source": [
        "car1=Car(\"Honda\",70)\n",
        "car1.accelerate()\n",
        "car1.display()"
      ],
      "metadata": {
        "colab": {
          "base_uri": "https://localhost:8080/"
        },
        "id": "ixuoUChu5jaV",
        "outputId": "25571a05-1713-4728-a353-bdec076be902"
      },
      "execution_count": null,
      "outputs": [
        {
          "output_type": "stream",
          "name": "stdout",
          "text": [
            "Honda speed:110km/h\n"
          ]
        }
      ]
    },
    {
      "cell_type": "code",
      "source": [
        "class BankAccount:\n",
        "  def __init__(self,holder,balance):\n",
        "    self.holder=holder\n",
        "    self.balance=balance\n",
        "  def deposit(self,amount):\n",
        "    self.balance+=2000\n",
        "  def display(self):\n",
        "    print(f\"{self.holder} Balance:{self.balance}\")"
      ],
      "metadata": {
        "id": "4HXiKgZl5jWg"
      },
      "execution_count": null,
      "outputs": []
    },
    {
      "cell_type": "code",
      "source": [
        "account1=BankAccount(\"sowbhagya\",3000)\n",
        "account1.deposit(2000)\n",
        "account1.display()"
      ],
      "metadata": {
        "colab": {
          "base_uri": "https://localhost:8080/"
        },
        "id": "HxeFo7FN5jU2",
        "outputId": "b73d9185-08a1-4e1b-cbc9-935963127fd8"
      },
      "execution_count": null,
      "outputs": [
        {
          "output_type": "stream",
          "name": "stdout",
          "text": [
            "sowbhagya Balance:5000\n"
          ]
        }
      ]
    },
    {
      "cell_type": "code",
      "source": [
        "class Book:\n",
        "  def __init__(self,title,author):\n",
        "    self.title=title\n",
        "    self.author=author\n",
        "  def Display(self):\n",
        "      print(f\"{self.title} by {self.author}\")\n",
        "  def get_author(self):\n",
        "      return self.author"
      ],
      "metadata": {
        "id": "CWavh0eD5jRn"
      },
      "execution_count": 8,
      "outputs": []
    },
    {
      "cell_type": "code",
      "source": [
        "book1=Book(\"tangled\",'sowbhagya')\n",
        "book1.Display()\n",
        "book1.get_author()"
      ],
      "metadata": {
        "colab": {
          "base_uri": "https://localhost:8080/",
          "height": 54
        },
        "id": "VxkYFm175jQE",
        "outputId": "6b536297-bc89-453d-e1fc-688d47a08d34"
      },
      "execution_count": 9,
      "outputs": [
        {
          "output_type": "stream",
          "name": "stdout",
          "text": [
            "tangled by sowbhagya\n"
          ]
        },
        {
          "output_type": "execute_result",
          "data": {
            "text/plain": [
              "'sowbhagya'"
            ],
            "application/vnd.google.colaboratory.intrinsic+json": {
              "type": "string"
            }
          },
          "metadata": {},
          "execution_count": 9
        }
      ]
    },
    {
      "cell_type": "code",
      "source": [
        "class Temperature:\n",
        "    def __init__(self, celsius):\n",
        "        self.celsius = celsius\n",
        "\n",
        "    def to_fahrenheit(self):\n",
        "        return (self.celsius * 9/5) + 60\n",
        "\n",
        "    def display(self):\n",
        "        print(f\"{self.celsius}°C\")"
      ],
      "metadata": {
        "id": "rXYDe9fA5jMa"
      },
      "execution_count": 10,
      "outputs": []
    },
    {
      "cell_type": "code",
      "source": [
        "class1= Temperature(40)\n",
        "print(class1.to_fahrenheit())\n",
        "class1.display()"
      ],
      "metadata": {
        "id": "EPBeRhXM5jLD",
        "colab": {
          "base_uri": "https://localhost:8080/"
        },
        "outputId": "553b7e61-e4cb-4b21-ca2b-4f464b143061"
      },
      "execution_count": 11,
      "outputs": [
        {
          "output_type": "stream",
          "name": "stdout",
          "text": [
            "132.0\n",
            "40°C\n"
          ]
        }
      ]
    },
    {
      "cell_type": "code",
      "source": [],
      "metadata": {
        "id": "4thzMtwFrlMe"
      },
      "execution_count": null,
      "outputs": []
    }
  ]
}