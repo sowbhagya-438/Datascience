{
  "nbformat": 4,
  "nbformat_minor": 0,
  "metadata": {
    "colab": {
      "provenance": []
    },
    "kernelspec": {
      "name": "python3",
      "display_name": "Python 3"
    },
    "language_info": {
      "name": "python"
    }
  },
  "cells": [
    {
      "cell_type": "code",
      "execution_count": 2,
      "metadata": {
        "id": "D9epEG0PlRq2"
      },
      "outputs": [],
      "source": [
        "import numpy as np"
      ]
    },
    {
      "cell_type": "markdown",
      "source": [],
      "metadata": {
        "id": "kVvF49YelvND"
      }
    },
    {
      "cell_type": "code",
      "source": [
        "#  Retsil dataset as numpy array"
      ],
      "metadata": {
        "id": "mBlRBEKZlpIH"
      },
      "execution_count": null,
      "outputs": []
    },
    {
      "cell_type": "code",
      "source": [
        "retail_np_array=np.array([\n",
        "   [1001,\"laptop\",1,50000,50000],\n",
        "   [1002,\"mouse\",2,500,1000],\n",
        "   [1003,\"keyboard\",1,1000,1000],\n",
        "   [1004,\"monitor\",2,7000,14000],\n",
        "   [1005,\"headphones\",1,2000,2000]\n",
        "])\n",
        ""
      ],
      "metadata": {
        "id": "vTP0CGdOlpUn"
      },
      "execution_count": 11,
      "outputs": []
    },
    {
      "cell_type": "code",
      "source": [
        "retail_np_array"
      ],
      "metadata": {
        "colab": {
          "base_uri": "https://localhost:8080/"
        },
        "id": "e88jGaiplpg0",
        "outputId": "ac4c3002-8149-4c4d-f7cd-f15ba0bc9e7d"
      },
      "execution_count": 12,
      "outputs": [
        {
          "output_type": "execute_result",
          "data": {
            "text/plain": [
              "array([['1001', 'laptop', '1', '50000', '50000'],\n",
              "       ['1002', 'mouse', '2', '500', '1000'],\n",
              "       ['1003', 'keyboard', '1', '1000', '1000'],\n",
              "       ['1004', 'monitor', '2', '7000', '14000'],\n",
              "       ['1005', 'headphones', '1', '2000', '2000']], dtype='<U21')"
            ]
          },
          "metadata": {},
          "execution_count": 12
        }
      ]
    },
    {
      "cell_type": "code",
      "source": [
        "retail_np_array=np.array([\n",
        "   [1001,\"laptop\",1,50000,50000],\n",
        "   [1002,\"mouse\",2,500,1000],\n",
        "   [1003,\"keyboard\",1,1000,1000],\n",
        "   [1004,\"monitor\",2,7000,14000],\n",
        "   [1005,\"headphones\",1,2000,2000]\n",
        "] ,dtype=object)"
      ],
      "metadata": {
        "id": "CzYry0Qglppu"
      },
      "execution_count": 14,
      "outputs": []
    },
    {
      "cell_type": "code",
      "source": [
        "retail_np_array.size"
      ],
      "metadata": {
        "colab": {
          "base_uri": "https://localhost:8080/"
        },
        "id": "qJCOTnoJskRD",
        "outputId": "b9463a0e-63d7-4e74-e5da-d4ac7d25a393"
      },
      "execution_count": 22,
      "outputs": [
        {
          "output_type": "execute_result",
          "data": {
            "text/plain": [
              "25"
            ]
          },
          "metadata": {},
          "execution_count": 22
        }
      ]
    },
    {
      "cell_type": "code",
      "source": [
        "retail_np_array.shape"
      ],
      "metadata": {
        "colab": {
          "base_uri": "https://localhost:8080/"
        },
        "id": "g65ld1dYsydt",
        "outputId": "3e30b830-6029-4e90-8f22-0e513dba6fa7"
      },
      "execution_count": 25,
      "outputs": [
        {
          "output_type": "execute_result",
          "data": {
            "text/plain": [
              "(5, 5)"
            ]
          },
          "metadata": {},
          "execution_count": 25
        }
      ]
    },
    {
      "cell_type": "code",
      "source": [
        "retail_np_array.shape[0]"
      ],
      "metadata": {
        "colab": {
          "base_uri": "https://localhost:8080/"
        },
        "id": "GNKxVo5as4-q",
        "outputId": "6395c937-6545-48b5-b899-773452a42a7e"
      },
      "execution_count": 28,
      "outputs": [
        {
          "output_type": "execute_result",
          "data": {
            "text/plain": [
              "5"
            ]
          },
          "metadata": {},
          "execution_count": 28
        }
      ]
    },
    {
      "cell_type": "code",
      "source": [
        "retail_np_array.shape[ :3]"
      ],
      "metadata": {
        "colab": {
          "base_uri": "https://localhost:8080/"
        },
        "id": "alnIgqN7tWvp",
        "outputId": "66fbec08-2aa6-4198-fd21-adf8df570878"
      },
      "execution_count": 30,
      "outputs": [
        {
          "output_type": "execute_result",
          "data": {
            "text/plain": [
              "(5, 5)"
            ]
          },
          "metadata": {},
          "execution_count": 30
        }
      ]
    },
    {
      "cell_type": "code",
      "source": [
        "retail_np_array            #object datatype"
      ],
      "metadata": {
        "colab": {
          "base_uri": "https://localhost:8080/"
        },
        "id": "eGprUJmHlprA",
        "outputId": "f6c5aea2-5375-4a5b-ec06-12e7c6e4c3c9"
      },
      "execution_count": 15,
      "outputs": [
        {
          "output_type": "execute_result",
          "data": {
            "text/plain": [
              "array([[1001, 'laptop', 1, 50000, 50000],\n",
              "       [1002, 'mouse', 2, 500, 1000],\n",
              "       [1003, 'keyboard', 1, 1000, 1000],\n",
              "       [1004, 'monitor', 2, 7000, 14000],\n",
              "       [1005, 'headphones', 1, 2000, 2000]], dtype=object)"
            ]
          },
          "metadata": {},
          "execution_count": 15
        }
      ]
    },
    {
      "cell_type": "code",
      "source": [
        "##Extracting columns\n",
        "customer_ids=retail_np_array[:,0]\n",
        "products=retail_np_array[:,1]\n",
        "quantities=retail_np_array[:,2].astype(int)\n",
        "prices=retail_np_array[:,3].astype(int)\n",
        "totals=retail_np_array[:,4].astype(int)"
      ],
      "metadata": {
        "id": "mN2Olq0Xlpwa"
      },
      "execution_count": 17,
      "outputs": []
    },
    {
      "cell_type": "code",
      "source": [
        "customer_ids=retail_np_array[:,0]\n",
        "customer_ids"
      ],
      "metadata": {
        "colab": {
          "base_uri": "https://localhost:8080/"
        },
        "id": "-ijV4UOrlp3D",
        "outputId": "6e027942-87f8-4893-b3c2-3004b0bbfad9"
      },
      "execution_count": 19,
      "outputs": [
        {
          "output_type": "execute_result",
          "data": {
            "text/plain": [
              "array([1001, 1002, 1003, 1004, 1005], dtype=object)"
            ]
          },
          "metadata": {},
          "execution_count": 19
        }
      ]
    },
    {
      "cell_type": "code",
      "source": [
        "products=retail_np_array[:,1]\n",
        "products"
      ],
      "metadata": {
        "colab": {
          "base_uri": "https://localhost:8080/"
        },
        "id": "KQIjvhLblp4e",
        "outputId": "36bb8868-4a00-4ad0-d0fc-18985a67f7f9"
      },
      "execution_count": 20,
      "outputs": [
        {
          "output_type": "execute_result",
          "data": {
            "text/plain": [
              "array(['laptop', 'mouse', 'keyboard', 'monitor', 'headphones'],\n",
              "      dtype=object)"
            ]
          },
          "metadata": {},
          "execution_count": 20
        }
      ]
    },
    {
      "cell_type": "code",
      "source": [
        "retail_np_array=np.array([\n",
        "   [1001,\"laptop\",1,50000,50000],\n",
        "   [1002,\"mouse\",2,500,1000],\n",
        "   [1003,\"keyboard\",1,1000,1000],\n",
        "   [1004,\"monitor\",2,7000,14000],\n",
        "   [1005,\"headphones\",1,2000,2000]\n",
        "] ,dtype=object)"
      ],
      "metadata": {
        "id": "g7EvsmCvlp8X"
      },
      "execution_count": 31,
      "outputs": []
    },
    {
      "cell_type": "code",
      "source": [
        "retail_np_array"
      ],
      "metadata": {
        "colab": {
          "base_uri": "https://localhost:8080/"
        },
        "id": "VquY_LTWlp96",
        "outputId": "26c6b9c0-80f1-4206-b13f-6c2cc9068eac"
      },
      "execution_count": 32,
      "outputs": [
        {
          "output_type": "execute_result",
          "data": {
            "text/plain": [
              "array([[1001, 'laptop', 1, 50000, 50000],\n",
              "       [1002, 'mouse', 2, 500, 1000],\n",
              "       [1003, 'keyboard', 1, 1000, 1000],\n",
              "       [1004, 'monitor', 2, 7000, 14000],\n",
              "       [1005, 'headphones', 1, 2000, 2000]], dtype=object)"
            ]
          },
          "metadata": {},
          "execution_count": 32
        }
      ]
    },
    {
      "cell_type": "code",
      "source": [
        "customer_ids=retail_np_array[:,0]\n",
        "products=retail_np_array[:,1]\n",
        "quantities=retail_np_array[:,2].astype(int)\n",
        "prices=retail_np_array[:,3].astype(int)\n",
        "totals=retail_np_array[:,4].astype(int)"
      ],
      "metadata": {
        "id": "brvo23jcy2V-"
      },
      "execution_count": 56,
      "outputs": []
    },
    {
      "cell_type": "code",
      "source": [
        "tota_number_of_transactions=retail_np_array.shape[0]"
      ],
      "metadata": {
        "id": "eOzOhdLIlqCV"
      },
      "execution_count": 57,
      "outputs": []
    },
    {
      "cell_type": "code",
      "source": [
        "tota_number_of_transactions"
      ],
      "metadata": {
        "colab": {
          "base_uri": "https://localhost:8080/"
        },
        "id": "Dgat8wD8lqD5",
        "outputId": "57ce8fa8-10ff-4efd-9e13-de05f5a0dc3f"
      },
      "execution_count": 58,
      "outputs": [
        {
          "output_type": "execute_result",
          "data": {
            "text/plain": [
              "5"
            ]
          },
          "metadata": {},
          "execution_count": 58
        }
      ]
    },
    {
      "cell_type": "code",
      "source": [
        "total_revenue_generate=np.sum(totals)"
      ],
      "metadata": {
        "id": "FGt8Hdt-lqIY"
      },
      "execution_count": 60,
      "outputs": []
    },
    {
      "cell_type": "code",
      "source": [
        "total_revenue_generate"
      ],
      "metadata": {
        "colab": {
          "base_uri": "https://localhost:8080/"
        },
        "id": "iPV5wI8slqJ6",
        "outputId": "87f3d1ee-ffdc-4114-85f1-b5b9bf9127eb"
      },
      "execution_count": 61,
      "outputs": [
        {
          "output_type": "execute_result",
          "data": {
            "text/plain": [
              "np.int64(68000)"
            ]
          },
          "metadata": {},
          "execution_count": 61
        }
      ]
    },
    {
      "cell_type": "code",
      "source": [
        "average_order_value=np.mean(totals)"
      ],
      "metadata": {
        "id": "IBaeqr8PlqOE"
      },
      "execution_count": 62,
      "outputs": []
    },
    {
      "cell_type": "code",
      "source": [
        "average_order_value"
      ],
      "metadata": {
        "colab": {
          "base_uri": "https://localhost:8080/"
        },
        "id": "5wvBfTF4lqQM",
        "outputId": "b9534e9c-b3cf-4d75-cecb-c30c89ca2926"
      },
      "execution_count": 63,
      "outputs": [
        {
          "output_type": "execute_result",
          "data": {
            "text/plain": [
              "np.float64(13600.0)"
            ]
          },
          "metadata": {},
          "execution_count": 63
        }
      ]
    },
    {
      "cell_type": "code",
      "source": [
        "product_with_the_highest_total_price=products[np.argmax(totals)]"
      ],
      "metadata": {
        "id": "U74Ra2NslqTo"
      },
      "execution_count": 64,
      "outputs": []
    },
    {
      "cell_type": "code",
      "source": [
        "product_with_the_highest_total_price"
      ],
      "metadata": {
        "colab": {
          "base_uri": "https://localhost:8080/",
          "height": 36
        },
        "id": "kRc99yaflqVa",
        "outputId": "8421ff91-ac8b-4fa6-bc5c-8b70580b30e2"
      },
      "execution_count": 65,
      "outputs": [
        {
          "output_type": "execute_result",
          "data": {
            "text/plain": [
              "'laptop'"
            ],
            "application/vnd.google.colaboratory.intrinsic+json": {
              "type": "string"
            }
          },
          "metadata": {},
          "execution_count": 65
        }
      ]
    },
    {
      "cell_type": "code",
      "source": [
        "product_with_the_lowest_total_price=products[np.argmin(totals)]"
      ],
      "metadata": {
        "id": "yG2mNO7ylqZZ"
      },
      "execution_count": 66,
      "outputs": []
    },
    {
      "cell_type": "code",
      "source": [
        "product_with_the_lowest_total_price"
      ],
      "metadata": {
        "colab": {
          "base_uri": "https://localhost:8080/",
          "height": 36
        },
        "id": "8XH_Kyo4lqbG",
        "outputId": "42c5d45e-cc91-4b54-bbd4-fd9446870b61"
      },
      "execution_count": 43,
      "outputs": [
        {
          "output_type": "execute_result",
          "data": {
            "text/plain": [
              "'mouse'"
            ],
            "application/vnd.google.colaboratory.intrinsic+json": {
              "type": "string"
            }
          },
          "metadata": {},
          "execution_count": 43
        }
      ]
    },
    {
      "cell_type": "code",
      "source": [
        "average_price_of_products=np.mean(prices)"
      ],
      "metadata": {
        "id": "qtgJuHR6lqf0"
      },
      "execution_count": 44,
      "outputs": []
    },
    {
      "cell_type": "code",
      "source": [
        "average_price_of_products"
      ],
      "metadata": {
        "colab": {
          "base_uri": "https://localhost:8080/"
        },
        "id": "dRT9zyaawTf8",
        "outputId": "0ea9f1c4-0a7b-4fb0-8ae5-c1bdd357d11d"
      },
      "execution_count": 45,
      "outputs": [
        {
          "output_type": "execute_result",
          "data": {
            "text/plain": [
              "np.float64(12100.0)"
            ]
          },
          "metadata": {},
          "execution_count": 45
        }
      ]
    },
    {
      "cell_type": "code",
      "source": [
        "total_quantity_sold=np.sum(quantities)"
      ],
      "metadata": {
        "id": "ISNeLIhJwTSd"
      },
      "execution_count": 46,
      "outputs": []
    },
    {
      "cell_type": "code",
      "source": [
        "total_quantity_sold"
      ],
      "metadata": {
        "colab": {
          "base_uri": "https://localhost:8080/"
        },
        "id": "eOgT1HJcwTGW",
        "outputId": "b6f0a410-7704-4ce5-b4cf-f42c276d1952"
      },
      "execution_count": 47,
      "outputs": [
        {
          "output_type": "execute_result",
          "data": {
            "text/plain": [
              "np.int64(7)"
            ]
          },
          "metadata": {},
          "execution_count": 47
        }
      ]
    },
    {
      "cell_type": "code",
      "source": [
        "most_frequently_purchased_product=np.unique(products,return_counts=True)"
      ],
      "metadata": {
        "id": "ytEMO9NTwS87"
      },
      "execution_count": 49,
      "outputs": []
    },
    {
      "cell_type": "code",
      "source": [
        "most_frequently_purchased_product"
      ],
      "metadata": {
        "colab": {
          "base_uri": "https://localhost:8080/"
        },
        "id": "NeKtwuRfwSx-",
        "outputId": "731ec460-40cf-4547-a2e0-8986c0949615"
      },
      "execution_count": 50,
      "outputs": [
        {
          "output_type": "execute_result",
          "data": {
            "text/plain": [
              "(array(['headphones', 'keyboard', 'laptop', 'monitor', 'mouse'],\n",
              "       dtype=object),\n",
              " array([1, 1, 1, 1, 1]))"
            ]
          },
          "metadata": {},
          "execution_count": 50
        }
      ]
    },
    {
      "cell_type": "code",
      "source": [
        "number_of_unique_products=len(np.unique(products))"
      ],
      "metadata": {
        "id": "F2LPXun2wSnJ"
      },
      "execution_count": 51,
      "outputs": []
    },
    {
      "cell_type": "code",
      "source": [
        "number_of_unique_products"
      ],
      "metadata": {
        "colab": {
          "base_uri": "https://localhost:8080/"
        },
        "id": "mWhiV0F5wSc0",
        "outputId": "ac350e29-38b0-4644-85ec-b52745b74453"
      },
      "execution_count": 52,
      "outputs": [
        {
          "output_type": "execute_result",
          "data": {
            "text/plain": [
              "5"
            ]
          },
          "metadata": {},
          "execution_count": 52
        }
      ]
    },
    {
      "cell_type": "code",
      "source": [
        "number_of_unique_customers=len(np.unique(customer_ids))"
      ],
      "metadata": {
        "id": "D022TMD7wSTY"
      },
      "execution_count": 53,
      "outputs": []
    },
    {
      "cell_type": "code",
      "source": [
        "number_of_unique_customers"
      ],
      "metadata": {
        "colab": {
          "base_uri": "https://localhost:8080/"
        },
        "id": "Idi8nMt6wSI3",
        "outputId": "31a5f1ac-b21c-431d-ddf5-acaa677c6377"
      },
      "execution_count": 54,
      "outputs": [
        {
          "output_type": "execute_result",
          "data": {
            "text/plain": [
              "5"
            ]
          },
          "metadata": {},
          "execution_count": 54
        }
      ]
    },
    {
      "cell_type": "code",
      "source": [],
      "metadata": {
        "id": "WWTWKvFFyCaV"
      },
      "execution_count": null,
      "outputs": []
    },
    {
      "cell_type": "code",
      "source": [],
      "metadata": {
        "id": "yuKlki-gyCXq"
      },
      "execution_count": null,
      "outputs": []
    },
    {
      "cell_type": "code",
      "source": [],
      "metadata": {
        "id": "xN1_YIzHyCUE"
      },
      "execution_count": null,
      "outputs": []
    },
    {
      "cell_type": "code",
      "source": [],
      "metadata": {
        "id": "v2TTisl7yCSg"
      },
      "execution_count": null,
      "outputs": []
    },
    {
      "cell_type": "code",
      "source": [],
      "metadata": {
        "id": "yG1qQ5rxyCHg"
      },
      "execution_count": null,
      "outputs": []
    },
    {
      "cell_type": "code",
      "source": [],
      "metadata": {
        "id": "0uUM0JKSyCFw"
      },
      "execution_count": null,
      "outputs": []
    },
    {
      "cell_type": "code",
      "source": [],
      "metadata": {
        "id": "RimGZRRqyCBX"
      },
      "execution_count": null,
      "outputs": []
    },
    {
      "cell_type": "code",
      "source": [],
      "metadata": {
        "id": "on0XHUEWyB_V"
      },
      "execution_count": null,
      "outputs": []
    },
    {
      "cell_type": "code",
      "source": [],
      "metadata": {
        "id": "KkjV642-yB83"
      },
      "execution_count": null,
      "outputs": []
    },
    {
      "cell_type": "code",
      "source": [],
      "metadata": {
        "id": "ny4Bd3bXyB5w"
      },
      "execution_count": null,
      "outputs": []
    },
    {
      "cell_type": "code",
      "source": [],
      "metadata": {
        "id": "PgJg-OeSyB1j"
      },
      "execution_count": null,
      "outputs": []
    },
    {
      "cell_type": "code",
      "source": [],
      "metadata": {
        "id": "Ri6nvRUcyBzo"
      },
      "execution_count": null,
      "outputs": []
    },
    {
      "cell_type": "code",
      "source": [],
      "metadata": {
        "id": "7dDxIcVwyBv8"
      },
      "execution_count": null,
      "outputs": []
    },
    {
      "cell_type": "code",
      "source": [],
      "metadata": {
        "id": "dQZZE2-myBuk"
      },
      "execution_count": null,
      "outputs": []
    },
    {
      "cell_type": "code",
      "source": [],
      "metadata": {
        "id": "Vo16bn1VwR9R"
      },
      "execution_count": null,
      "outputs": []
    }
  ]
}