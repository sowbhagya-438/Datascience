{
  "nbformat": 4,
  "nbformat_minor": 0,
  "metadata": {
    "colab": {
      "provenance": []
    },
    "kernelspec": {
      "name": "python3",
      "display_name": "Python 3"
    },
    "language_info": {
      "name": "python"
    }
  },
  "cells": [
    {
      "cell_type": "code",
      "execution_count": null,
      "metadata": {
        "id": "gHnYQoLQFH0z"
      },
      "outputs": [],
      "source": [
        "#####findall : return list of all the matches\n",
        "## search : returs a match object if there is match\n",
        "##split : It divide the string into words\n",
        "##sub : place\n"
      ]
    },
    {
      "cell_type": "code",
      "source": [
        "###meta characters\n",
        "## special sequences\n",
        "##sets"
      ],
      "metadata": {
        "id": "jl1mUdE7FItu"
      },
      "execution_count": null,
      "outputs": []
    },
    {
      "cell_type": "code",
      "source": [
        "#1.meta characters"
      ],
      "metadata": {
        "id": "yOyTf_kUFIss"
      },
      "execution_count": null,
      "outputs": []
    },
    {
      "cell_type": "code",
      "source": [
        "import re"
      ],
      "metadata": {
        "id": "a0D8Wy46FIor"
      },
      "execution_count": 3,
      "outputs": []
    },
    {
      "cell_type": "code",
      "source": [
        "#re.function(pattern,string)"
      ],
      "metadata": {
        "id": "DJ2vtVmPFInv"
      },
      "execution_count": 5,
      "outputs": []
    },
    {
      "cell_type": "code",
      "source": [
        "### characterset"
      ],
      "metadata": {
        "id": "gQ8BGRcCGKoR"
      },
      "execution_count": null,
      "outputs": []
    },
    {
      "cell_type": "code",
      "source": [
        "re.findall(r\"[abc]\", \"data science\")"
      ],
      "metadata": {
        "colab": {
          "base_uri": "https://localhost:8080/"
        },
        "id": "HN6NC2JqGKm6",
        "outputId": "93ee4d09-2f53-4eb0-c08f-6303056e4aee"
      },
      "execution_count": 6,
      "outputs": [
        {
          "output_type": "execute_result",
          "data": {
            "text/plain": [
              "['a', 'a', 'c', 'c']"
            ]
          },
          "metadata": {},
          "execution_count": 6
        }
      ]
    },
    {
      "cell_type": "code",
      "source": [
        "print(re.findall(r\"[0-9]\", \"Hello123\"))"
      ],
      "metadata": {
        "colab": {
          "base_uri": "https://localhost:8080/"
        },
        "id": "hicqjyyGGKiL",
        "outputId": "848babb9-5a71-4db3-fbe0-0546fa16f723"
      },
      "execution_count": 7,
      "outputs": [
        {
          "output_type": "stream",
          "name": "stdout",
          "text": [
            "['1', '2', '3']\n"
          ]
        }
      ]
    },
    {
      "cell_type": "code",
      "source": [
        "print(re.findall(r\"[0-9][a-z]\", \"Hello123\"))"
      ],
      "metadata": {
        "colab": {
          "base_uri": "https://localhost:8080/"
        },
        "id": "DIGamp3kGKg4",
        "outputId": "d9fbd084-10c0-482c-b512-35199d702174"
      },
      "execution_count": 11,
      "outputs": [
        {
          "output_type": "stream",
          "name": "stdout",
          "text": [
            "[]\n"
          ]
        }
      ]
    },
    {
      "cell_type": "code",
      "source": [
        "\"\".join(re.findall(r\"\\d\", \"Room 42 91-2342425\"))"
      ],
      "metadata": {
        "colab": {
          "base_uri": "https://localhost:8080/",
          "height": 36
        },
        "id": "aCiYwb_aGKZs",
        "outputId": "7823212d-eac8-4dcc-9ac1-74672182c3fa"
      },
      "execution_count": 12,
      "outputs": [
        {
          "output_type": "execute_result",
          "data": {
            "text/plain": [
              "'42912342425'"
            ],
            "application/vnd.google.colaboratory.intrinsic+json": {
              "type": "string"
            }
          },
          "metadata": {},
          "execution_count": 12
        }
      ]
    },
    {
      "cell_type": "code",
      "source": [
        "re.findall(r\"\\d\", \"Room 42 91-2342425\")       #\\d : digits,numbers only"
      ],
      "metadata": {
        "colab": {
          "base_uri": "https://localhost:8080/"
        },
        "id": "5VzjT5cwGKYT",
        "outputId": "d4baab2b-1ff2-47d0-bb2e-60cb71cce3ba"
      },
      "execution_count": 13,
      "outputs": [
        {
          "output_type": "execute_result",
          "data": {
            "text/plain": [
              "['4', '2', '9', '1', '2', '3', '4', '2', '4', '2', '5']"
            ]
          },
          "metadata": {},
          "execution_count": 13
        }
      ]
    },
    {
      "cell_type": "code",
      "source": [
        "re.findall(r\"\\D\", \"Room 42 91-2342425\")    #D : except numbers remainig all special symbols,letters,space,underscore"
      ],
      "metadata": {
        "colab": {
          "base_uri": "https://localhost:8080/"
        },
        "id": "uqUwPB2_GKUC",
        "outputId": "69d96afd-997a-427a-f216-160df1f008be"
      },
      "execution_count": 14,
      "outputs": [
        {
          "output_type": "execute_result",
          "data": {
            "text/plain": [
              "['R', 'o', 'o', 'm', ' ', ' ', '-']"
            ]
          },
          "metadata": {},
          "execution_count": 14
        }
      ]
    },
    {
      "cell_type": "code",
      "source": [
        "re.findall(r\"\\D\", \"Room 42 91-23_424$25\")"
      ],
      "metadata": {
        "colab": {
          "base_uri": "https://localhost:8080/"
        },
        "id": "WMfB176IGKS5",
        "outputId": "5587ca67-1b51-4602-8ed8-b3cf9c356302"
      },
      "execution_count": 15,
      "outputs": [
        {
          "output_type": "execute_result",
          "data": {
            "text/plain": [
              "['R', 'o', 'o', 'm', ' ', ' ', '-', '_', '$']"
            ]
          },
          "metadata": {},
          "execution_count": 15
        }
      ]
    },
    {
      "cell_type": "code",
      "source": [
        "re.findall(r\"\\w\",\"Room 42_@$@$@4-25\")  #except spaces,special symbols(remaining all we come)(it matches letters,numbers,underscore)"
      ],
      "metadata": {
        "colab": {
          "base_uri": "https://localhost:8080/"
        },
        "id": "a9ugS63-GKOv",
        "outputId": "f2d97196-c609-4187-bd4e-72f6533f9d10"
      },
      "execution_count": 17,
      "outputs": [
        {
          "output_type": "execute_result",
          "data": {
            "text/plain": [
              "['R', 'o', 'o', 'm', '4', '2', '_', '4', '2', '5']"
            ]
          },
          "metadata": {},
          "execution_count": 17
        }
      ]
    },
    {
      "cell_type": "code",
      "source": [
        "re.findall(r\"h.t\", \"hat, hit, hothxt\")   #here r represents the single letter or word"
      ],
      "metadata": {
        "colab": {
          "base_uri": "https://localhost:8080/"
        },
        "id": "kqfvnpjiGKNV",
        "outputId": "7593f236-b20a-4148-9074-61b37e37745d"
      },
      "execution_count": 23,
      "outputs": [
        {
          "output_type": "execute_result",
          "data": {
            "text/plain": [
              "['hat', 'hit', 'hot', 'hxt']"
            ]
          },
          "metadata": {},
          "execution_count": 23
        }
      ]
    },
    {
      "cell_type": "code",
      "source": [
        "re.findall(r\"a.b\", \"acb a#b a@b\")"
      ],
      "metadata": {
        "colab": {
          "base_uri": "https://localhost:8080/"
        },
        "id": "8h2QNS_KJIYL",
        "outputId": "592d2726-a05f-48fa-d212-7e2e42cd074b"
      },
      "execution_count": 24,
      "outputs": [
        {
          "output_type": "execute_result",
          "data": {
            "text/plain": [
              "['acb', 'a#b', 'a@b']"
            ]
          },
          "metadata": {},
          "execution_count": 24
        }
      ]
    },
    {
      "cell_type": "code",
      "source": [
        "re.findall(r\".\", \"abc1231$#@$%$\")"
      ],
      "metadata": {
        "colab": {
          "base_uri": "https://localhost:8080/"
        },
        "id": "PMBqIen_JIW5",
        "outputId": "185a6f18-3087-4ad4-96a5-5576602569c7"
      },
      "execution_count": 25,
      "outputs": [
        {
          "output_type": "execute_result",
          "data": {
            "text/plain": [
              "['a', 'b', 'c', '1', '2', '3', '1', '$', '#', '@', '$', '%', '$']"
            ]
          },
          "metadata": {},
          "execution_count": 25
        }
      ]
    },
    {
      "cell_type": "code",
      "source": [
        "re.findall(r\"^Hello\", \"Hello \\nHello World \",re.M)"
      ],
      "metadata": {
        "colab": {
          "base_uri": "https://localhost:8080/"
        },
        "id": "o2T4KDO-JIQT",
        "outputId": "c914b4d4-795b-4d92-870c-0a232544af52"
      },
      "execution_count": 27,
      "outputs": [
        {
          "output_type": "execute_result",
          "data": {
            "text/plain": [
              "['Hello', 'Hello']"
            ]
          },
          "metadata": {},
          "execution_count": 27
        }
      ]
    },
    {
      "cell_type": "code",
      "source": [
        "re.findall(r\"^Hello\", \"Hello \\nHello Hello \",re.M)"
      ],
      "metadata": {
        "colab": {
          "base_uri": "https://localhost:8080/"
        },
        "id": "p1VpOQ8ZJIO5",
        "outputId": "51ac6244-ec1c-4cb2-ab40-8c79e8fb477b"
      },
      "execution_count": 28,
      "outputs": [
        {
          "output_type": "execute_result",
          "data": {
            "text/plain": [
              "['Hello', 'Hello']"
            ]
          },
          "metadata": {},
          "execution_count": 28
        }
      ]
    },
    {
      "cell_type": "code",
      "source": [
        "re.findall(r\"^Hello\", \"Hello Hello Hello \",re.M)"
      ],
      "metadata": {
        "colab": {
          "base_uri": "https://localhost:8080/"
        },
        "id": "snU-X8FhJIJf",
        "outputId": "7d63b4db-3060-482a-a2c8-2630eec028fd"
      },
      "execution_count": 29,
      "outputs": [
        {
          "output_type": "execute_result",
          "data": {
            "text/plain": [
              "['Hello']"
            ]
          },
          "metadata": {},
          "execution_count": 29
        }
      ]
    },
    {
      "cell_type": "code",
      "source": [
        "re.findall(r\"^Hello\", \"Hello \\n Hello Hello \",re.M)"
      ],
      "metadata": {
        "colab": {
          "base_uri": "https://localhost:8080/"
        },
        "id": "rwCXsmFlJIHs",
        "outputId": "4f222b8e-f889-4de8-993c-1da9263308a9"
      },
      "execution_count": 30,
      "outputs": [
        {
          "output_type": "execute_result",
          "data": {
            "text/plain": [
              "['Hello']"
            ]
          },
          "metadata": {},
          "execution_count": 30
        }
      ]
    },
    {
      "cell_type": "code",
      "source": [
        "re.findall(r\"^Hello\", \"hello \\nHello Hello \",re.M)"
      ],
      "metadata": {
        "colab": {
          "base_uri": "https://localhost:8080/"
        },
        "id": "-KNykWHrJIEX",
        "outputId": "d4f43dbf-ef73-40d4-9610-0aeb475f931e"
      },
      "execution_count": 31,
      "outputs": [
        {
          "output_type": "execute_result",
          "data": {
            "text/plain": [
              "['Hello']"
            ]
          },
          "metadata": {},
          "execution_count": 31
        }
      ]
    },
    {
      "cell_type": "code",
      "source": [
        "re.findall(r\"^Hello\", \"hello \\nHello world \",re.M)"
      ],
      "metadata": {
        "colab": {
          "base_uri": "https://localhost:8080/"
        },
        "id": "2oEGafJ2JICp",
        "outputId": "ef0e0fbf-eeb5-4816-b606-7709069f4a80"
      },
      "execution_count": 32,
      "outputs": [
        {
          "output_type": "execute_result",
          "data": {
            "text/plain": [
              "['Hello']"
            ]
          },
          "metadata": {},
          "execution_count": 32
        }
      ]
    },
    {
      "cell_type": "code",
      "source": [
        "re.findall(r\"end$\", \"The end\")"
      ],
      "metadata": {
        "colab": {
          "base_uri": "https://localhost:8080/"
        },
        "id": "f7-LwWu1JH-Y",
        "outputId": "ab560245-046e-4f06-95c1-99a2089f12be"
      },
      "execution_count": 33,
      "outputs": [
        {
          "output_type": "execute_result",
          "data": {
            "text/plain": [
              "['end']"
            ]
          },
          "metadata": {},
          "execution_count": 33
        }
      ]
    },
    {
      "cell_type": "code",
      "source": [
        "re.findall(r\"\\d$\",\"ID 123\")"
      ],
      "metadata": {
        "colab": {
          "base_uri": "https://localhost:8080/"
        },
        "id": "Zl4bHeEpJH9K",
        "outputId": "a99687d6-4b67-4d87-8da2-ec495d185d0c"
      },
      "execution_count": 34,
      "outputs": [
        {
          "output_type": "execute_result",
          "data": {
            "text/plain": [
              "['3']"
            ]
          },
          "metadata": {},
          "execution_count": 34
        }
      ]
    },
    {
      "cell_type": "code",
      "source": [
        "re.findall(r\"lo?\", \"look low lion\")   #here l is mandatory o is optional"
      ],
      "metadata": {
        "colab": {
          "base_uri": "https://localhost:8080/"
        },
        "id": "KKNwxlQnJH5H",
        "outputId": "8bcfd2f9-b8fd-4104-8828-4f7429f2dde2"
      },
      "execution_count": 35,
      "outputs": [
        {
          "output_type": "execute_result",
          "data": {
            "text/plain": [
              "['lo', 'lo', 'l']"
            ]
          },
          "metadata": {},
          "execution_count": 35
        }
      ]
    },
    {
      "cell_type": "code",
      "source": [
        "re.findall(r\"a{2}\", \"a aa aaa\")"
      ],
      "metadata": {
        "colab": {
          "base_uri": "https://localhost:8080/"
        },
        "id": "8LQ5GoJYJH3s",
        "outputId": "98bbc5cc-9a7d-4b55-a9e9-e1ca446dd42f"
      },
      "execution_count": 36,
      "outputs": [
        {
          "output_type": "execute_result",
          "data": {
            "text/plain": [
              "['aa', 'aa']"
            ]
          },
          "metadata": {},
          "execution_count": 36
        }
      ]
    },
    {
      "cell_type": "code",
      "source": [
        "re.findall(r\"\\d{3}\", \"123 4567 89 000\")"
      ],
      "metadata": {
        "colab": {
          "base_uri": "https://localhost:8080/"
        },
        "id": "9276PrdxNvl2",
        "outputId": "edfdaef2-0843-42da-ec41-ec884cbe3b9f"
      },
      "execution_count": 37,
      "outputs": [
        {
          "output_type": "execute_result",
          "data": {
            "text/plain": [
              "['123', '456', '000']"
            ]
          },
          "metadata": {},
          "execution_count": 37
        }
      ]
    },
    {
      "cell_type": "code",
      "source": [
        "re.findall(r\"cat|dog\" , \"I like cat and dog\")"
      ],
      "metadata": {
        "colab": {
          "base_uri": "https://localhost:8080/"
        },
        "id": "TZ9PMeh_Nvha",
        "outputId": "2de90277-cb95-4eb5-bb12-29161a7866cc"
      },
      "execution_count": 38,
      "outputs": [
        {
          "output_type": "execute_result",
          "data": {
            "text/plain": [
              "['cat', 'dog']"
            ]
          },
          "metadata": {},
          "execution_count": 38
        }
      ]
    },
    {
      "cell_type": "code",
      "source": [
        "re.findall(r\"apple|banana\", \"apple pie banana shake\")"
      ],
      "metadata": {
        "colab": {
          "base_uri": "https://localhost:8080/"
        },
        "id": "grBHowD1Nvf9",
        "outputId": "6aee31e9-fbd7-4766-94b7-b7addbbcb0ba"
      },
      "execution_count": 39,
      "outputs": [
        {
          "output_type": "execute_result",
          "data": {
            "text/plain": [
              "['apple', 'banana']"
            ]
          },
          "metadata": {},
          "execution_count": 39
        }
      ]
    },
    {
      "cell_type": "code",
      "source": [
        "re.findall(r\"yes|no\", \"yes may be no yes\")"
      ],
      "metadata": {
        "colab": {
          "base_uri": "https://localhost:8080/"
        },
        "id": "v9_e2xrcNvbo",
        "outputId": "5c34c9ef-a578-4dbc-ee5d-a8308d6dd7c4"
      },
      "execution_count": 40,
      "outputs": [
        {
          "output_type": "execute_result",
          "data": {
            "text/plain": [
              "['yes', 'no', 'yes']"
            ]
          },
          "metadata": {},
          "execution_count": 40
        }
      ]
    },
    {
      "cell_type": "code",
      "source": [
        "reviews = [\n",
        "    \"I bought this on 10/07/2025, and it's amazing! 123\",\n",
        "    \"Email me at user123@example.com for more info.\",\n",
        "    \"The phone number is 987-654-3210, call anytime.\",\n",
        "    \"This product is well-made and state-of-the-art!\",\n",
        "    \"Worst. Experience. Ever. 👎 So bad I said bad twice. bad bad.\"\n",
        "]"
      ],
      "metadata": {
        "id": "euupiDUeNvZ2"
      },
      "execution_count": 41,
      "outputs": []
    },
    {
      "cell_type": "code",
      "source": [
        "[len(i) for i in reviews]"
      ],
      "metadata": {
        "colab": {
          "base_uri": "https://localhost:8080/"
        },
        "id": "ZOCQgVUHNvVc",
        "outputId": "44d7b32b-833e-48db-d199-00a37741717a"
      },
      "execution_count": 42,
      "outputs": [
        {
          "output_type": "execute_result",
          "data": {
            "text/plain": [
              "[50, 46, 47, 47, 60]"
            ]
          },
          "metadata": {},
          "execution_count": 42
        }
      ]
    },
    {
      "cell_type": "code",
      "source": [
        "[len(i.split()) for i in reviews]"
      ],
      "metadata": {
        "colab": {
          "base_uri": "https://localhost:8080/"
        },
        "id": "Fm14y5npNvT8",
        "outputId": "4c87fdb4-22dd-42a8-c826-f638182557d6"
      },
      "execution_count": 43,
      "outputs": [
        {
          "output_type": "execute_result",
          "data": {
            "text/plain": [
              "[9, 7, 7, 6, 12]"
            ]
          },
          "metadata": {},
          "execution_count": 43
        }
      ]
    },
    {
      "cell_type": "code",
      "source": [
        "reviews"
      ],
      "metadata": {
        "colab": {
          "base_uri": "https://localhost:8080/"
        },
        "id": "eO7309VuNvPB",
        "outputId": "d8775380-3bf0-4267-f306-255ba6eeec84"
      },
      "execution_count": 45,
      "outputs": [
        {
          "output_type": "execute_result",
          "data": {
            "text/plain": [
              "[\"I bought this on 10/07/2025, and it's amazing! 123\",\n",
              " 'Email me at user123@example.com for more info.',\n",
              " 'The phone number is 987-654-3210, call anytime.',\n",
              " 'This product is well-made and state-of-the-art!',\n",
              " 'Worst. Experience. Ever. 👎 So bad I said bad twice. bad bad.']"
            ]
          },
          "metadata": {},
          "execution_count": 45
        }
      ]
    },
    {
      "cell_type": "code",
      "source": [
        "for i in reviews:\n",
        "  print(re.findall(r\"\\d{2}/\\d{2}/\\d{4}\", i))"
      ],
      "metadata": {
        "colab": {
          "base_uri": "https://localhost:8080/"
        },
        "id": "HZGXlnYvNvNj",
        "outputId": "c95a1934-6beb-438a-cf1c-29439178c86d"
      },
      "execution_count": 47,
      "outputs": [
        {
          "output_type": "stream",
          "name": "stdout",
          "text": [
            "['10/07/2025']\n",
            "[]\n",
            "[]\n",
            "[]\n",
            "[]\n"
          ]
        }
      ]
    },
    {
      "cell_type": "code",
      "source": [
        "for i in reviews:\n",
        "  print(re.findall(r\"\\d{3}-\\d{3}-\\d{4}\", i))"
      ],
      "metadata": {
        "colab": {
          "base_uri": "https://localhost:8080/"
        },
        "id": "9ZFXG3poNvIs",
        "outputId": "92ecbe1c-1991-49f8-ffe0-9a915c23060f"
      },
      "execution_count": 48,
      "outputs": [
        {
          "output_type": "stream",
          "name": "stdout",
          "text": [
            "[]\n",
            "[]\n",
            "['987-654-3210']\n",
            "[]\n",
            "[]\n"
          ]
        }
      ]
    },
    {
      "cell_type": "code",
      "source": [
        "for i in reviews:\n",
        "  print(re.sub(r\"\\d+\",\" \", i))"
      ],
      "metadata": {
        "colab": {
          "base_uri": "https://localhost:8080/"
        },
        "id": "LpOanJWNNvHP",
        "outputId": "f0c51d0d-a88e-481f-f201-eff9d23ad77e"
      },
      "execution_count": 49,
      "outputs": [
        {
          "output_type": "stream",
          "name": "stdout",
          "text": [
            "I bought this on  / / , and it's amazing!  \n",
            "Email me at user @example.com for more info.\n",
            "The phone number is  - - , call anytime.\n",
            "This product is well-made and state-of-the-art!\n",
            "Worst. Experience. Ever. 👎 So bad I said bad twice. bad bad.\n"
          ]
        }
      ]
    },
    {
      "cell_type": "code",
      "source": [
        "for i in reviews:\n",
        "  print(re.sub(r\"[^\\w\\s]\", \"\",i))"
      ],
      "metadata": {
        "colab": {
          "base_uri": "https://localhost:8080/"
        },
        "id": "wXahK3qHNvEp",
        "outputId": "1a8ddc33-bd6f-4bd8-d506-4b86811af125"
      },
      "execution_count": 50,
      "outputs": [
        {
          "output_type": "stream",
          "name": "stdout",
          "text": [
            "I bought this on 10072025 and its amazing 123\n",
            "Email me at user123examplecom for more info\n",
            "The phone number is 9876543210 call anytime\n",
            "This product is wellmade and stateoftheart\n",
            "Worst Experience Ever  So bad I said bad twice bad bad\n"
          ]
        }
      ]
    },
    {
      "cell_type": "code",
      "source": [],
      "metadata": {
        "id": "OVzKOdNENvB6"
      },
      "execution_count": null,
      "outputs": []
    },
    {
      "cell_type": "code",
      "source": [],
      "metadata": {
        "id": "4wiyNQLLNu9Z"
      },
      "execution_count": null,
      "outputs": []
    },
    {
      "cell_type": "code",
      "source": [],
      "metadata": {
        "id": "Cw_YKm8PNu8C"
      },
      "execution_count": null,
      "outputs": []
    },
    {
      "cell_type": "code",
      "source": [],
      "metadata": {
        "id": "86ZYXnMDNu46"
      },
      "execution_count": null,
      "outputs": []
    },
    {
      "cell_type": "code",
      "source": [],
      "metadata": {
        "id": "xKOxtv6_Nu21"
      },
      "execution_count": null,
      "outputs": []
    },
    {
      "cell_type": "code",
      "source": [],
      "metadata": {
        "id": "EeL0vyXKNuzr"
      },
      "execution_count": null,
      "outputs": []
    },
    {
      "cell_type": "code",
      "source": [],
      "metadata": {
        "id": "_s8bCiJWNuxs"
      },
      "execution_count": null,
      "outputs": []
    },
    {
      "cell_type": "code",
      "source": [],
      "metadata": {
        "id": "ciNwwxJCNuuQ"
      },
      "execution_count": null,
      "outputs": []
    },
    {
      "cell_type": "code",
      "source": [],
      "metadata": {
        "id": "XIwyUcuoNusy"
      },
      "execution_count": null,
      "outputs": []
    },
    {
      "cell_type": "code",
      "source": [],
      "metadata": {
        "id": "sueXFJcBNuov"
      },
      "execution_count": null,
      "outputs": []
    },
    {
      "cell_type": "code",
      "source": [],
      "metadata": {
        "id": "pzH3xpuPNunL"
      },
      "execution_count": null,
      "outputs": []
    }
  ]
}