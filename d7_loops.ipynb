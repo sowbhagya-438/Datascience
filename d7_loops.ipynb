{
  "nbformat": 4,
  "nbformat_minor": 0,
  "metadata": {
    "colab": {
      "provenance": []
    },
    "kernelspec": {
      "name": "python3",
      "display_name": "Python 3"
    },
    "language_info": {
      "name": "python"
    }
  },
  "cells": [
    {
      "cell_type": "code",
      "execution_count": null,
      "metadata": {
        "id": "hVjYUBhvlPy1"
      },
      "outputs": [],
      "source": [
        "for i in range(0,10):\n",
        "  if i == 3:\n",
        "    continue\n",
        "    print(i)"
      ]
    },
    {
      "cell_type": "code",
      "source": [
        "## break and continue only exit from the immediate loops"
      ],
      "metadata": {
        "id": "soLpG-CDmckJ"
      },
      "execution_count": null,
      "outputs": []
    },
    {
      "cell_type": "code",
      "source": [
        "for i in range(0,5):\n",
        "  for j in range(2,6):\n",
        "    print(i,j)\n",
        "    if j==3:\n",
        "      break"
      ],
      "metadata": {
        "colab": {
          "base_uri": "https://localhost:8080/"
        },
        "id": "v-YUunwWmcgz",
        "outputId": "90351e86-a5b8-4b73-8bef-0d597a056977"
      },
      "execution_count": null,
      "outputs": [
        {
          "output_type": "stream",
          "name": "stdout",
          "text": [
            "0 2\n",
            "0 3\n",
            "1 2\n",
            "1 3\n",
            "2 2\n",
            "2 3\n",
            "3 2\n",
            "3 3\n",
            "4 2\n",
            "4 3\n"
          ]
        }
      ]
    },
    {
      "cell_type": "code",
      "source": [
        "for i in range(0,5):\n",
        "  for j in range(1,5):\n",
        "    if j==3:\n",
        "      continue\n",
        "      print(i,j)"
      ],
      "metadata": {
        "id": "HWIJPr05mceE"
      },
      "execution_count": null,
      "outputs": []
    },
    {
      "cell_type": "code",
      "source": [
        "for i in range(1,5):\n",
        "  for j in range(1,5):\n",
        "    if i==3:\n",
        "      continue\n",
        "    else:\n",
        "        print(i,j)\n"
      ],
      "metadata": {
        "colab": {
          "base_uri": "https://localhost:8080/"
        },
        "id": "m4kRkLLtmcb1",
        "outputId": "dbbe2c01-c927-42d9-8041-d2478491178a"
      },
      "execution_count": null,
      "outputs": [
        {
          "output_type": "stream",
          "name": "stdout",
          "text": [
            "1 1\n",
            "1 2\n",
            "1 3\n",
            "1 4\n",
            "2 1\n",
            "2 2\n",
            "2 3\n",
            "2 4\n",
            "4 1\n",
            "4 2\n",
            "4 3\n",
            "4 4\n"
          ]
        }
      ]
    },
    {
      "cell_type": "code",
      "source": [
        "row=5\n",
        "for i in range(1,row+1):\n",
        "  print(\" \"*(row-i)+i*\"*\")"
      ],
      "metadata": {
        "colab": {
          "base_uri": "https://localhost:8080/"
        },
        "id": "-vJWB_sJmcYy",
        "outputId": "c8d11a34-896d-4ad0-c974-cee68ba710fb"
      },
      "execution_count": null,
      "outputs": [
        {
          "output_type": "stream",
          "name": "stdout",
          "text": [
            "    *\n",
            "   **\n",
            "  ***\n",
            " ****\n",
            "*****\n"
          ]
        }
      ]
    },
    {
      "cell_type": "code",
      "source": [
        "for i in range(1,6):\n",
        "  print((\"*\"*i).center(10,\" \"))\n"
      ],
      "metadata": {
        "colab": {
          "base_uri": "https://localhost:8080/"
        },
        "id": "2ed0lTH4oh1D",
        "outputId": "7852de60-2c2c-4f4a-8f19-a6103bb8f379"
      },
      "execution_count": null,
      "outputs": [
        {
          "output_type": "stream",
          "name": "stdout",
          "text": [
            "    *     \n",
            "    **    \n",
            "   ***    \n",
            "   ****   \n",
            "  *****   \n"
          ]
        }
      ]
    },
    {
      "cell_type": "code",
      "source": [
        "for i in range(1,6):\n",
        "  print(\" \"*(6-i)+\"*\"*i)"
      ],
      "metadata": {
        "colab": {
          "base_uri": "https://localhost:8080/"
        },
        "id": "Lt_iyjySohjP",
        "outputId": "0b853a6d-c2e9-4050-9bf0-050b8cfb901b"
      },
      "execution_count": null,
      "outputs": [
        {
          "output_type": "stream",
          "name": "stdout",
          "text": [
            "     *\n",
            "    **\n",
            "   ***\n",
            "  ****\n",
            " *****\n"
          ]
        }
      ]
    },
    {
      "cell_type": "code",
      "source": [
        "###BINARY PATTERN program"
      ],
      "metadata": {
        "id": "QkiHhFbLohfz"
      },
      "execution_count": null,
      "outputs": []
    },
    {
      "cell_type": "code",
      "source": [
        "0\n",
        "10\n",
        "010\n",
        "1010\n",
        "01010"
      ],
      "metadata": {
        "id": "fxUAPuTUohct"
      },
      "execution_count": null,
      "outputs": []
    },
    {
      "cell_type": "code",
      "source": [
        "for i in range(1,6):\n",
        "  for j in range(1,i+1):\n",
        "    print((i+j)%2,end=\" \")\n",
        "  print()"
      ],
      "metadata": {
        "colab": {
          "base_uri": "https://localhost:8080/"
        },
        "id": "lDPs_6B9rPkP",
        "outputId": "76f01731-7785-4ea6-b6f0-e8f79a4e6a15"
      },
      "execution_count": null,
      "outputs": [
        {
          "output_type": "stream",
          "name": "stdout",
          "text": [
            "0 \n",
            "1 0 \n",
            "0 1 0 \n",
            "1 0 1 0 \n",
            "0 1 0 1 0 \n"
          ]
        }
      ]
    },
    {
      "cell_type": "code",
      "source": [
        "###INVERTED NUMBER TRIANGLE\n"
      ],
      "metadata": {
        "id": "4MhAXWW0rPgw"
      },
      "execution_count": null,
      "outputs": []
    },
    {
      "cell_type": "code",
      "source": [
        "1 2 3 4 5\n",
        "1 2 3 4\n",
        "1 2 3\n",
        "1 2\n",
        "1"
      ],
      "metadata": {
        "id": "mme5siverPd_"
      },
      "execution_count": null,
      "outputs": []
    },
    {
      "cell_type": "code",
      "source": [
        "row=7\n",
        "for i in range(1,row):\n",
        "  for j in range(1,row-i):\n",
        "    print(j,end=\" \")\n",
        "  print()"
      ],
      "metadata": {
        "colab": {
          "base_uri": "https://localhost:8080/"
        },
        "id": "LtotcisKsSPt",
        "outputId": "e4661dff-e967-4403-f5e2-4cd728453d55"
      },
      "execution_count": null,
      "outputs": [
        {
          "output_type": "stream",
          "name": "stdout",
          "text": [
            "1 2 3 4 5 \n",
            "1 2 3 4 \n",
            "1 2 3 \n",
            "1 2 \n",
            "1 \n",
            "\n"
          ]
        }
      ]
    },
    {
      "cell_type": "code",
      "source": [
        "###CHECKER BOARD PATTERN"
      ],
      "metadata": {
        "id": "mkUnNhXPsSMQ"
      },
      "execution_count": null,
      "outputs": []
    },
    {
      "cell_type": "code",
      "source": [
        "for i in range(1,6):\n",
        "  for j in range(1,6):\n",
        "    print((i+j)%2,end=\" \")\n",
        "  print()"
      ],
      "metadata": {
        "colab": {
          "base_uri": "https://localhost:8080/"
        },
        "id": "IFVBMfclsSJx",
        "outputId": "d802148c-c931-408c-ffc6-1898e1ab7462"
      },
      "execution_count": null,
      "outputs": [
        {
          "output_type": "stream",
          "name": "stdout",
          "text": [
            "0 1 0 1 0 \n",
            "1 0 1 0 1 \n",
            "0 1 0 1 0 \n",
            "1 0 1 0 1 \n",
            "0 1 0 1 0 \n"
          ]
        }
      ]
    },
    {
      "cell_type": "code",
      "source": [],
      "metadata": {
        "id": "HbnKh6jNsSHs"
      },
      "execution_count": null,
      "outputs": []
    }
  ]
}