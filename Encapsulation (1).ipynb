{
  "nbformat": 4,
  "nbformat_minor": 0,
  "metadata": {
    "colab": {
      "provenance": []
    },
    "kernelspec": {
      "name": "python3",
      "display_name": "Python 3"
    },
    "language_info": {
      "name": "python"
    }
  },
  "cells": [
    {
      "cell_type": "code",
      "execution_count": null,
      "metadata": {
        "id": "TmPT8G3Kh_8I"
      },
      "outputs": [],
      "source": [
        "###Encapsulation: Encapsulation is one of the  fundamental concepts of Object-Oriented Programming (OOP)\n",
        "##It is the process of binding the data (variables) and methods (functions) into a single unit (class), and restricting direct access to some of the object’s internal details"
      ]
    },
    {
      "cell_type": "code",
      "source": [
        "###Encapsulation:\n",
        "##Access modifiers:Public ,Protected,Private"
      ],
      "metadata": {
        "id": "uEdsOve0iC_1"
      },
      "execution_count": null,
      "outputs": []
    },
    {
      "cell_type": "code",
      "source": [
        "class Car:\n",
        "  def __init__(self):\n",
        "    self.brand=\"Toyota\"\n",
        "c=Car()\n",
        "print(c.brand)      #Aceesing public variable"
      ],
      "metadata": {
        "colab": {
          "base_uri": "https://localhost:8080/"
        },
        "id": "mtXqVTw6iC7z",
        "outputId": "571da88f-b4dc-4e25-fb90-02e569d74d65"
      },
      "execution_count": 2,
      "outputs": [
        {
          "output_type": "stream",
          "name": "stdout",
          "text": [
            "Toyota\n"
          ]
        }
      ]
    },
    {
      "cell_type": "code",
      "source": [
        "class Laptop:\n",
        "  def __init__(self):\n",
        "    self.ram=\"16GB\"\n",
        "l=Laptop()\n",
        "print(l.ram)      #Aceesing public variable"
      ],
      "metadata": {
        "colab": {
          "base_uri": "https://localhost:8080/"
        },
        "id": "13Iu4-NKiC6Q",
        "outputId": "74fbd772-fb06-43aa-8f18-a85bedc68584"
      },
      "execution_count": 3,
      "outputs": [
        {
          "output_type": "stream",
          "name": "stdout",
          "text": [
            "16GB\n"
          ]
        }
      ]
    },
    {
      "cell_type": "code",
      "source": [
        "class Employee:\n",
        "  def __init__(self):\n",
        "    self._salary=50000\n",
        "e=Employee()\n",
        "print(e._salary)    ##Technically accessible,but not recommended (protected)\n"
      ],
      "metadata": {
        "colab": {
          "base_uri": "https://localhost:8080/"
        },
        "id": "YM_3u_KEiC2R",
        "outputId": "917420a8-9e27-429a-de75-1934ce3e7f44"
      },
      "execution_count": 5,
      "outputs": [
        {
          "output_type": "stream",
          "name": "stdout",
          "text": [
            "50000\n"
          ]
        }
      ]
    },
    {
      "cell_type": "code",
      "source": [
        "class Doctor:\n",
        "  def __init__(self):\n",
        "    self._license_number =\"MED12345\"\n",
        "d=Doctor()\n",
        "print(d._license_number)        ##protected\n"
      ],
      "metadata": {
        "colab": {
          "base_uri": "https://localhost:8080/"
        },
        "id": "XtYIaRq1iC0v",
        "outputId": "a89171d8-efc3-4a3d-d740-0f20b4c14144"
      },
      "execution_count": 6,
      "outputs": [
        {
          "output_type": "stream",
          "name": "stdout",
          "text": [
            "MED12345\n"
          ]
        }
      ]
    },
    {
      "cell_type": "code",
      "source": [
        "class Laptop:\n",
        "  def __init__(self):\n",
        "    self.__serial_number=\"SN-987654\"\n",
        "l=Laptop()\n",
        "l.__serial_number               ##private"
      ],
      "metadata": {
        "colab": {
          "base_uri": "https://localhost:8080/",
          "height": 183
        },
        "id": "CDeloBFRiCwb",
        "outputId": "7eb13e6f-28ce-407f-e542-529904f40c1f"
      },
      "execution_count": 1,
      "outputs": [
        {
          "output_type": "error",
          "ename": "AttributeError",
          "evalue": "'Laptop' object has no attribute '__serial_number'",
          "traceback": [
            "\u001b[0;31m---------------------------------------------------------------------------\u001b[0m",
            "\u001b[0;31mAttributeError\u001b[0m                            Traceback (most recent call last)",
            "\u001b[0;32m/tmp/ipython-input-1-2523997076.py\u001b[0m in \u001b[0;36m<cell line: 0>\u001b[0;34m()\u001b[0m\n\u001b[1;32m      3\u001b[0m     \u001b[0mself\u001b[0m\u001b[0;34m.\u001b[0m\u001b[0m__serial_number\u001b[0m\u001b[0;34m=\u001b[0m\u001b[0;34m\"SN-987654\"\u001b[0m\u001b[0;34m\u001b[0m\u001b[0;34m\u001b[0m\u001b[0m\n\u001b[1;32m      4\u001b[0m \u001b[0ml\u001b[0m\u001b[0;34m=\u001b[0m\u001b[0mLaptop\u001b[0m\u001b[0;34m(\u001b[0m\u001b[0;34m)\u001b[0m\u001b[0;34m\u001b[0m\u001b[0;34m\u001b[0m\u001b[0m\n\u001b[0;32m----> 5\u001b[0;31m \u001b[0ml\u001b[0m\u001b[0;34m.\u001b[0m\u001b[0m__serial_number\u001b[0m\u001b[0;34m\u001b[0m\u001b[0;34m\u001b[0m\u001b[0m\n\u001b[0m",
            "\u001b[0;31mAttributeError\u001b[0m: 'Laptop' object has no attribute '__serial_number'"
          ]
        }
      ]
    },
    {
      "cell_type": "code",
      "source": [
        "class BankAccount:\n",
        "  def __init__(self,holder_name,balance,pin):\n",
        "    self._holder_name=holder_name\n",
        "    self.__balance=balance\n",
        "    self.__pin=pin\n",
        "  def deposit(self,amount):\n",
        "      if amount > 0:\n",
        "        self.__balance+=amount\n",
        "  def withdraw(self,amount,pin):\n",
        "      if pin == self.__pin and amount <= self.__balance:\n",
        "          self.__balance -= amount\n",
        "          return amount\n",
        "      else:\n",
        "          return \"Invalid pin or insufficient funds\"\n",
        "  def get_balance(self,pin):\n",
        "      return self.__balance if pin ==self.__pin else \"Access Denied\"\n"
      ],
      "metadata": {
        "id": "WRJhcxl_iCu2"
      },
      "execution_count": 8,
      "outputs": []
    },
    {
      "cell_type": "code",
      "source": [
        "object1=BankAccount(\"Student1\",5000,1000)\n",
        "object1._holder_name"
      ],
      "metadata": {
        "colab": {
          "base_uri": "https://localhost:8080/",
          "height": 36
        },
        "id": "Y0UQ4MoniCqq",
        "outputId": "5b2d3253-e586-4a54-a7e1-8755aef5d181"
      },
      "execution_count": 10,
      "outputs": [
        {
          "output_type": "execute_result",
          "data": {
            "text/plain": [
              "'Student1'"
            ],
            "application/vnd.google.colaboratory.intrinsic+json": {
              "type": "string"
            }
          },
          "metadata": {},
          "execution_count": 10
        }
      ]
    },
    {
      "cell_type": "code",
      "source": [
        "object1.get_balance(1000)"
      ],
      "metadata": {
        "colab": {
          "base_uri": "https://localhost:8080/"
        },
        "id": "cXhRSnCIiCpK",
        "outputId": "da536a28-2237-4507-d7b7-317e403fd5d5"
      },
      "execution_count": 11,
      "outputs": [
        {
          "output_type": "execute_result",
          "data": {
            "text/plain": [
              "5000"
            ]
          },
          "metadata": {},
          "execution_count": 11
        }
      ]
    },
    {
      "cell_type": "code",
      "source": [
        "object1.deposit(300)"
      ],
      "metadata": {
        "id": "_VW9Ml44iClg"
      },
      "execution_count": 12,
      "outputs": []
    },
    {
      "cell_type": "code",
      "source": [
        "object1.get_balance(1000)"
      ],
      "metadata": {
        "colab": {
          "base_uri": "https://localhost:8080/"
        },
        "id": "rWiOMsuxiCj9",
        "outputId": "3a7a8f0a-d0bb-4b9e-80bc-9373e95da818"
      },
      "execution_count": 14,
      "outputs": [
        {
          "output_type": "execute_result",
          "data": {
            "text/plain": [
              "5300"
            ]
          },
          "metadata": {},
          "execution_count": 14
        }
      ]
    },
    {
      "cell_type": "code",
      "source": [],
      "metadata": {
        "id": "XVPZkOFFiCgI"
      },
      "execution_count": null,
      "outputs": []
    },
    {
      "cell_type": "code",
      "source": [
        "class Student:\n",
        "  def __init__(self,name):\n",
        "    self._name = name                    #protected\n",
        "    self.__grades = {}                   #private dictionary\n",
        "  def add_grade(self,subject,grade):\n",
        "    self.__grades[subject] = grade\n",
        "  def _average(self):                   #protected method\n",
        "    return sum(self.__grades.values()) /len(self.__grades)\n",
        "  def get_report(self):\n",
        "    return f\"Student:{self._name}, Average: {self._average()}\"\n",
        "object1=Student(\"Student1\")\n",
        "object1.add_grade(\"science\",80)\n",
        "object1.add_grade(\"maths\",80)\n",
        "object1.add_grade(\"computers\",80)\n",
        "object1.get_report()\n",
        "object1.__grades                          ##here it is private class we cant access the private class directly, it is used for not accessing of variables and methods from outside of the class"
      ],
      "metadata": {
        "colab": {
          "base_uri": "https://localhost:8080/",
          "height": 183
        },
        "id": "gU1WMFixs5D2",
        "outputId": "14823ae0-6068-4e48-9d8c-1cca0d849b51"
      },
      "execution_count": 19,
      "outputs": [
        {
          "output_type": "error",
          "ename": "AttributeError",
          "evalue": "'Student' object has no attribute '__grades'",
          "traceback": [
            "\u001b[0;31m---------------------------------------------------------------------------\u001b[0m",
            "\u001b[0;31mAttributeError\u001b[0m                            Traceback (most recent call last)",
            "\u001b[0;32m/tmp/ipython-input-19-3219695657.py\u001b[0m in \u001b[0;36m<cell line: 0>\u001b[0;34m()\u001b[0m\n\u001b[1;32m     14\u001b[0m \u001b[0mobject1\u001b[0m\u001b[0;34m.\u001b[0m\u001b[0madd_grade\u001b[0m\u001b[0;34m(\u001b[0m\u001b[0;34m\"computers\"\u001b[0m\u001b[0;34m,\u001b[0m\u001b[0;36m80\u001b[0m\u001b[0;34m)\u001b[0m\u001b[0;34m\u001b[0m\u001b[0;34m\u001b[0m\u001b[0m\n\u001b[1;32m     15\u001b[0m \u001b[0mobject1\u001b[0m\u001b[0;34m.\u001b[0m\u001b[0mget_report\u001b[0m\u001b[0;34m(\u001b[0m\u001b[0;34m)\u001b[0m\u001b[0;34m\u001b[0m\u001b[0;34m\u001b[0m\u001b[0m\n\u001b[0;32m---> 16\u001b[0;31m \u001b[0mobject1\u001b[0m\u001b[0;34m.\u001b[0m\u001b[0m__grades\u001b[0m\u001b[0;34m\u001b[0m\u001b[0;34m\u001b[0m\u001b[0m\n\u001b[0m",
            "\u001b[0;31mAttributeError\u001b[0m: 'Student' object has no attribute '__grades'"
          ]
        }
      ]
    },
    {
      "cell_type": "code",
      "source": [
        "class Student:\n",
        "  def __init__(self,name):\n",
        "    self._name = name                    #protected\n",
        "    self.__grades = {}                   #private dictionary\n",
        "  def add_grade(self,subject,grade):\n",
        "    self.__grades[subject] = grade\n",
        "  def _average(self):                   #protected method\n",
        "    return sum(self.__grades.values()) /len(self.__grades)\n",
        "  def get_report(self):\n",
        "    return f\"Student:{self._name}, Average: {self._average()}\"\n",
        "object1=Student(\"Student1\")\n",
        "object1.add_grade(\"science\",80)\n",
        "object1.add_grade(\"maths\",80)\n",
        "object1.add_grade(\"computers\",80)\n",
        "object1.get_report()"
      ],
      "metadata": {
        "colab": {
          "base_uri": "https://localhost:8080/",
          "height": 36
        },
        "id": "CBI9xfmpiCer",
        "outputId": "fef71948-f108-4251-fd90-56da5ecb89a7"
      },
      "execution_count": 17,
      "outputs": [
        {
          "output_type": "execute_result",
          "data": {
            "text/plain": [
              "'Student:Student1, Average: 80.0'"
            ],
            "application/vnd.google.colaboratory.intrinsic+json": {
              "type": "string"
            }
          },
          "metadata": {},
          "execution_count": 17
        }
      ]
    },
    {
      "cell_type": "code",
      "source": [
        "object1._Student__grades                       #name mangling(by using the name mangling technique we can access the private variables)"
      ],
      "metadata": {
        "colab": {
          "base_uri": "https://localhost:8080/"
        },
        "id": "8utjT6mBiCad",
        "outputId": "a6d91b9d-4ca8-451f-e806-dc8a18c3f626"
      },
      "execution_count": 18,
      "outputs": [
        {
          "output_type": "execute_result",
          "data": {
            "text/plain": [
              "{'science': 80, 'maths': 80, 'computers': 80}"
            ]
          },
          "metadata": {},
          "execution_count": 18
        }
      ]
    },
    {
      "cell_type": "code",
      "source": [],
      "metadata": {
        "id": "WskJH0iViCY_"
      },
      "execution_count": null,
      "outputs": []
    },
    {
      "cell_type": "code",
      "source": [],
      "metadata": {
        "id": "XqhnVgOriCUk"
      },
      "execution_count": null,
      "outputs": []
    },
    {
      "cell_type": "code",
      "source": [
        "####Abstraction"
      ],
      "metadata": {
        "id": "SK4HR9eNiCTT"
      },
      "execution_count": null,
      "outputs": []
    },
    {
      "cell_type": "code",
      "source": [
        "from abc import ABC, abstractmethod\n",
        "class Payment(ABC):\n",
        "  @abstractmethod\n",
        "  def pay(self,amount,interest):\n",
        "    pass\n",
        "class CreditCard(Payment):\n",
        "  def pay(self,amount):\n",
        "    print(f\"Paid ${amount} using Credit Card\")\n",
        "class UPI(Payment):\n",
        "  def pay(self,amount):\n",
        "    print(f\"Paid ${amount} using UPI\")"
      ],
      "metadata": {
        "id": "4Dr_nl8CiCPP"
      },
      "execution_count": 20,
      "outputs": []
    },
    {
      "cell_type": "code",
      "source": [
        "p1=CreditCard()\n",
        "p1.pay(1000)\n",
        "p2=UPI()\n",
        "p2.pay(500)"
      ],
      "metadata": {
        "colab": {
          "base_uri": "https://localhost:8080/"
        },
        "id": "I4JT3-eYiCN_",
        "outputId": "e347e7ba-08c6-4184-e86b-d2d87d3171fa"
      },
      "execution_count": 21,
      "outputs": [
        {
          "output_type": "stream",
          "name": "stdout",
          "text": [
            "Paid $1000 using Credit Card\n",
            "Paid $500 using UPI\n"
          ]
        }
      ]
    },
    {
      "cell_type": "code",
      "source": [],
      "metadata": {
        "id": "h1JCOoG-w1eT"
      },
      "execution_count": null,
      "outputs": []
    },
    {
      "cell_type": "code",
      "source": [],
      "metadata": {
        "id": "qSoivZz_w1cd"
      },
      "execution_count": null,
      "outputs": []
    },
    {
      "cell_type": "code",
      "source": [],
      "metadata": {
        "id": "KJ_Vhg9fw1aP"
      },
      "execution_count": null,
      "outputs": []
    },
    {
      "cell_type": "code",
      "source": [],
      "metadata": {
        "id": "x8GYAUpGw1Yb"
      },
      "execution_count": null,
      "outputs": []
    },
    {
      "cell_type": "code",
      "source": [],
      "metadata": {
        "id": "5ZT3Qzuyw1Vx"
      },
      "execution_count": null,
      "outputs": []
    },
    {
      "cell_type": "code",
      "source": [],
      "metadata": {
        "id": "tROkMfMhw1SA"
      },
      "execution_count": null,
      "outputs": []
    },
    {
      "cell_type": "code",
      "source": [],
      "metadata": {
        "id": "TEU_zFD_w1Og"
      },
      "execution_count": null,
      "outputs": []
    },
    {
      "cell_type": "code",
      "source": [],
      "metadata": {
        "id": "8mBBjUi2w1MU"
      },
      "execution_count": null,
      "outputs": []
    },
    {
      "cell_type": "code",
      "source": [],
      "metadata": {
        "id": "O2lc5G-Ew1Ja"
      },
      "execution_count": null,
      "outputs": []
    },
    {
      "cell_type": "code",
      "source": [],
      "metadata": {
        "id": "sVnnue28w1HB"
      },
      "execution_count": null,
      "outputs": []
    },
    {
      "cell_type": "code",
      "source": [],
      "metadata": {
        "id": "urM3GHCJw1EB"
      },
      "execution_count": null,
      "outputs": []
    },
    {
      "cell_type": "code",
      "source": [],
      "metadata": {
        "id": "MTjcFJSDw1BS"
      },
      "execution_count": null,
      "outputs": []
    },
    {
      "cell_type": "code",
      "source": [],
      "metadata": {
        "id": "xy2g38hvw07-"
      },
      "execution_count": null,
      "outputs": []
    },
    {
      "cell_type": "code",
      "source": [],
      "metadata": {
        "id": "3KZ0gVe7w06D"
      },
      "execution_count": null,
      "outputs": []
    },
    {
      "cell_type": "code",
      "source": [],
      "metadata": {
        "id": "evRQFlIGw021"
      },
      "execution_count": null,
      "outputs": []
    },
    {
      "cell_type": "code",
      "source": [],
      "metadata": {
        "id": "PS0dr22rw01G"
      },
      "execution_count": null,
      "outputs": []
    }
  ]
}