{
  "cells": [
    {
      "cell_type": "code",
      "execution_count": null,
      "metadata": {
        "id": "t5N1pmF65vK-"
      },
      "outputs": [],
      "source": [
        "##Exception handling\n",
        "        #exception handling is the process of finding and managing errors during program execution,  so that the program will execute proplerly."
      ]
    },
    {
      "cell_type": "code",
      "execution_count": null,
      "metadata": {
        "colab": {
          "base_uri": "https://localhost:8080/"
        },
        "id": "zwuX3Vkw52jr",
        "outputId": "dc140a66-0f35-4884-ff36-2e36d3fb1037"
      },
      "outputs": [
        {
          "name": "stdout",
          "output_type": "stream",
          "text": [
            "test\n"
          ]
        }
      ],
      "source": [
        "try:\n",
        "  print(2+\"3\")     #value error\n",
        "except:\n",
        "  print(\"test\")"
      ]
    },
    {
      "cell_type": "code",
      "execution_count": null,
      "metadata": {
        "colab": {
          "base_uri": "https://localhost:8080/"
        },
        "id": "jIyQPf2252fg",
        "outputId": "bcea9e73-408f-4f2a-9465-5483a3569569"
      },
      "outputs": [
        {
          "name": "stdout",
          "output_type": "stream",
          "text": [
            "Cannot divide by zero!\n"
          ]
        }
      ],
      "source": [
        "try:\n",
        "  result =10/0            ##zerodivision  error\n",
        "except ZeroDivisionError:\n",
        "  print(\"Cannot divide by zero!\")\n",
        "\n",
        "\n"
      ]
    },
    {
      "cell_type": "code",
      "execution_count": 8,
      "metadata": {
        "colab": {
          "base_uri": "https://localhost:8080/"
        },
        "id": "ebZT6PRq52d0",
        "outputId": "cf7a6ee9-074a-4207-808b-44a6f07f4ba1"
      },
      "outputs": [
        {
          "name": "stdout",
          "output_type": "stream",
          "text": [
            "sowbhagya\n",
            "\n"
          ]
        }
      ],
      "source": [
        "try:\n",
        "  with open(\"/content/sample.txt\") as f:\n",
        "    content = f.read()\n",
        "    print(content)\n",
        "except FileNotFoundError:\n",
        "    print(\"File not found\")"
      ]
    },
    {
      "cell_type": "code",
      "execution_count": 9,
      "metadata": {
        "colab": {
          "base_uri": "https://localhost:8080/"
        },
        "id": "zALLMpIa52aQ",
        "outputId": "6c893b16-8c56-4824-cab7-ea1ad75a5a8d"
      },
      "outputs": [
        {
          "name": "stdout",
          "output_type": "stream",
          "text": [
            "File not found\n"
          ]
        }
      ],
      "source": [
        "try:\n",
        "  with open(\"/content/sample.csv\") as f:\n",
        "    content = f.read()\n",
        "    print(content)\n",
        "except FileNotFoundError:\n",
        "    print(\"File not found\")"
      ]
    },
    {
      "cell_type": "code",
      "execution_count": 10,
      "metadata": {
        "colab": {
          "base_uri": "https://localhost:8080/"
        },
        "id": "3Jv9UwOV52Yt",
        "outputId": "980791b0-9fa8-43e7-9214-eb3d76ac53ed"
      },
      "outputs": [
        {
          "name": "stdout",
          "output_type": "stream",
          "text": [
            "Invalid number format.\n"
          ]
        }
      ],
      "source": [
        "try:\n",
        "  number =float(\"abc\")\n",
        "  print(number)\n",
        "except ValueError:\n",
        "  print(\"Invalid number format.\")"
      ]
    },
    {
      "cell_type": "code",
      "execution_count": 12,
      "metadata": {
        "colab": {
          "base_uri": "https://localhost:8080/"
        },
        "id": "jYcz31d152VI",
        "outputId": "88d05fd2-3030-457e-f8d2-ea062837919a"
      },
      "outputs": [
        {
          "name": "stdout",
          "output_type": "stream",
          "text": [
            "Index out of range\n"
          ]
        }
      ],
      "source": [
        "try:\n",
        "  items = [1,2,3]\n",
        "  print(items[5])\n",
        "except IndexError:\n",
        "  print(\"Index out of range\")"
      ]
    },
    {
      "cell_type": "code",
      "execution_count": 13,
      "metadata": {
        "colab": {
          "base_uri": "https://localhost:8080/"
        },
        "id": "1Yn2s5gF52To",
        "outputId": "aedb64fe-1043-4d88-fe57-541c25c456de"
      },
      "outputs": [
        {
          "name": "stdout",
          "output_type": "stream",
          "text": [
            "Alice\n"
          ]
        }
      ],
      "source": [
        "try:\n",
        "  data = {\"name\": \"Alice\"}\n",
        "  print(data[\"name\"])\n",
        "except KeyError:\n",
        "  print(\"Key notfound in dictionary\")"
      ]
    },
    {
      "cell_type": "code",
      "execution_count": 14,
      "metadata": {
        "colab": {
          "base_uri": "https://localhost:8080/"
        },
        "id": "DqQEC1q352QE",
        "outputId": "b3a41504-05f6-441b-8f82-4ca13ac85012"
      },
      "outputs": [
        {
          "name": "stdout",
          "output_type": "stream",
          "text": [
            "Key notfound in dictionary\n"
          ]
        }
      ],
      "source": [
        "try:\n",
        "  data = {\"class\": \"Alice\"}\n",
        "  print(data[\"name\"])\n",
        "except KeyError:\n",
        "  print(\"Key notfound in dictionary\")"
      ]
    },
    {
      "cell_type": "code",
      "execution_count": 15,
      "metadata": {
        "colab": {
          "base_uri": "https://localhost:8080/"
        },
        "id": "u6OcQPkI52Of",
        "outputId": "4cdc07ea-a74a-409f-b743-3f96888feacc"
      },
      "outputs": [
        {
          "name": "stdout",
          "output_type": "stream",
          "text": [
            "Invalid attribute for the object\n"
          ]
        }
      ],
      "source": [
        "try:\n",
        "  x = 5\n",
        "  x.append(2)     #here x is not a list so we cant append the any value here\n",
        "except AttributeError:\n",
        "  print(\"Invalid attribute for the object\")"
      ]
    },
    {
      "cell_type": "code",
      "execution_count": 20,
      "metadata": {
        "colab": {
          "base_uri": "https://localhost:8080/"
        },
        "id": "bAYzbrWy52Kh",
        "outputId": "7c3b052b-aecb-4f00-ce96-fe9d96c6cc14"
      },
      "outputs": [
        {
          "name": "stdout",
          "output_type": "stream",
          "text": [
            "Caught an error: invalid literal for int() with base 10: 'abc'\n"
          ]
        }
      ],
      "source": [
        "try:\n",
        "  value = int(\"abc\")\n",
        "  result = 10/0\n",
        "except(ValueError, ZeroDivisionError) as e:\n",
        "  print(\"Caught an error:\", e)"
      ]
    },
    {
      "cell_type": "code",
      "execution_count": 24,
      "metadata": {
        "colab": {
          "base_uri": "https://localhost:8080/"
        },
        "id": "Yz0fgqA152JD",
        "outputId": "19868dfb-32d1-450d-8a77-d0b1cc825155"
      },
      "outputs": [
        {
          "name": "stdout",
          "output_type": "stream",
          "text": [
            "Conversion successful: 100\n"
          ]
        }
      ],
      "source": [
        "try:\n",
        " number = int(\"100\")\n",
        "except ValueError:\n",
        "  print(\"Conversion failed\")\n",
        "else:\n",
        "  print(\"Conversion successful:\", number)"
      ]
    },
    {
      "cell_type": "code",
      "execution_count": 26,
      "metadata": {
        "colab": {
          "base_uri": "https://localhost:8080/"
        },
        "id": "8J163bc252FT",
        "outputId": "36a5dc86-ba32-4c62-f318-60772707d61e"
      },
      "outputs": [
        {
          "name": "stdout",
          "output_type": "stream",
          "text": [
            "sowbhagya\n",
            "\n",
            "Execution complete\n"
          ]
        }
      ],
      "source": [
        "try:\n",
        "  f = open(\"/content/sample.txt\")\n",
        "  data = f.read()\n",
        "  print(data)\n",
        "except FileNotFoundError:\n",
        "  print(\"File not found\")\n",
        "finally:\n",
        "  print(\"Execution complete\")"
      ]
    },
    {
      "cell_type": "code",
      "execution_count": 27,
      "metadata": {
        "colab": {
          "base_uri": "https://localhost:8080/"
        },
        "id": "if8RtlKW52EG",
        "outputId": "2ef71422-40d5-4330-ef74-2a63412892ec"
      },
      "outputs": [
        {
          "name": "stdout",
          "output_type": "stream",
          "text": [
            "Divide by zero error\n",
            "Done with Division\n"
          ]
        }
      ],
      "source": [
        "try:\n",
        "  result = 10 / 0\n",
        "except ZeroDivisionError:\n",
        "  print(\"Divide by zero error\")\n",
        "else:\n",
        "  print(\"Result:\", result)\n",
        "finally:\n",
        "  print(\"Done with Division\")"
      ]
    },
    {
      "cell_type": "code",
      "execution_count": 28,
      "metadata": {
        "colab": {
          "base_uri": "https://localhost:8080/"
        },
        "id": "LHS-9vy652Bj",
        "outputId": "6864d426-9a5b-4041-98a1-bac7ffd5fa12"
      },
      "outputs": [
        {
          "name": "stdout",
          "output_type": "stream",
          "text": [
            "Index out of range\n",
            "List operation done\n"
          ]
        }
      ],
      "source": [
        "try:\n",
        "  lst =[1,2]\n",
        "  print(lst[5])\n",
        "except IndexError:\n",
        "  print(\"Index out of range\")\n",
        "else:\n",
        "  print(\"List item accessed\")\n",
        "finally:\n",
        "  print(\"List operation done\")"
      ]
    },
    {
      "cell_type": "code",
      "execution_count": 29,
      "metadata": {
        "colab": {
          "base_uri": "https://localhost:8080/",
          "height": 36
        },
        "id": "9k3DXd_W51_T",
        "outputId": "9088e504-f228-48ae-a481-acbfa9a1ea58"
      },
      "outputs": [
        {
          "data": {
            "application/vnd.google.colaboratory.intrinsic+json": {
              "type": "string"
            },
            "text/plain": [
              "'invalidinvalid'"
            ]
          },
          "execution_count": 29,
          "metadata": {},
          "output_type": "execute_result"
        }
      ],
      "source": [
        "\"invalid\"*2"
      ]
    },
    {
      "cell_type": "code",
      "execution_count": 32,
      "metadata": {
        "colab": {
          "base_uri": "https://localhost:8080/"
        },
        "id": "03xtqjVs517S",
        "outputId": "d60cfbab-9c9e-4419-93af-30489bf20a42"
      },
      "outputs": [
        {
          "name": "stdout",
          "output_type": "stream",
          "text": [
            "2\n",
            "4\n",
            "6\n",
            "8\n",
            "ii\n",
            "nn\n",
            "vv\n",
            "aa\n",
            "ll\n",
            "ii\n",
            "dd\n"
          ]
        }
      ],
      "source": [
        "data =[[1,2],[3,4],\"invalid\"]\n",
        "for sublist in data:\n",
        "  for item in sublist:\n",
        "    print(item*2)"
      ]
    },
    {
      "cell_type": "code",
      "execution_count": 40,
      "metadata": {
        "colab": {
          "base_uri": "https://localhost:8080/"
        },
        "id": "5-F0O32D5150",
        "outputId": "fe70636f-41c7-4b54-c73f-d5a7462ae2b5"
      },
      "outputs": [
        {
          "name": "stdout",
          "output_type": "stream",
          "text": [
            "2\n",
            "4\n",
            "6\n",
            "8\n",
            "ii\n",
            "nn\n",
            "vv\n",
            "aa\n",
            "ll\n",
            "ii\n",
            "dd\n",
            "Nested list processed\n",
            "List handling complete\n"
          ]
        }
      ],
      "source": [
        "try:\n",
        "  data =[[1,2],[3,4],\"invalid\"]\n",
        "  for sublist in data:\n",
        "    for item in sublist:\n",
        "      print(item*2)\n",
        "except TypeError as e:\n",
        "  print(\"Type Error:\", e)\n",
        "else:\n",
        "  print(\"Nested list processed\")\n",
        "finally:\n",
        "  print(\"List handling complete\")\n"
      ]
    },
    {
      "cell_type": "code",
      "execution_count": 41,
      "metadata": {
        "colab": {
          "base_uri": "https://localhost:8080/"
        },
        "id": "VtJ7ztBZ511t",
        "outputId": "6439b9ad-d6ff-48ea-a0f5-1d2e5c5a0468"
      },
      "outputs": [
        {
          "name": "stdout",
          "output_type": "stream",
          "text": [
            "Set union error: unsupported operand type(s) for |: 'set' and 'str'\n",
            "set operation done\n"
          ]
        }
      ],
      "source": [
        "try:\n",
        "  a = {1,2,3}\n",
        "  b= \"abc\"\n",
        "  result = a|b #Unsupported operand types\n",
        "except TypeError as e:\n",
        "  print(\"Set union error:\",e)\n",
        "else:\n",
        "  print(\"Set union successful\")\n",
        "finally:\n",
        "  print(\"set operation done\")\n"
      ]
    },
    {
      "cell_type": "code",
      "execution_count": null,
      "metadata": {
        "id": "rvhhfvk1JoEX"
      },
      "outputs": [],
      "source": []
    },
    {
      "cell_type": "code",
      "execution_count": null,
      "metadata": {
        "id": "QjYP8kSi510V"
      },
      "outputs": [],
      "source": []
    }
  ],
  "metadata": {
    "colab": {
      "provenance": []
    },
    "kernelspec": {
      "display_name": "Python 3",
      "name": "python3"
    },
    "language_info": {
      "name": "python"
    }
  },
  "nbformat": 4,
  "nbformat_minor": 0
}
