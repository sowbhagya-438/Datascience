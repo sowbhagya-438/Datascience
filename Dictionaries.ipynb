{
  "nbformat": 4,
  "nbformat_minor": 0,
  "metadata": {
    "colab": {
      "provenance": []
    },
    "kernelspec": {
      "name": "python3",
      "display_name": "Python 3"
    },
    "language_info": {
      "name": "python"
    }
  },
  "cells": [
    {
      "cell_type": "code",
      "execution_count": 1,
      "metadata": {
        "id": "hBBHOk3ItWyq"
      },
      "outputs": [],
      "source": [
        "d={\"key\":10,\"key\":20}"
      ]
    },
    {
      "cell_type": "code",
      "source": [
        "d"
      ],
      "metadata": {
        "colab": {
          "base_uri": "https://localhost:8080/"
        },
        "id": "NtzWwYL6vQsc",
        "outputId": "58e12032-2da8-451e-c308-de1a921f1fce"
      },
      "execution_count": 2,
      "outputs": [
        {
          "output_type": "execute_result",
          "data": {
            "text/plain": [
              "{'key': 20}"
            ]
          },
          "metadata": {},
          "execution_count": 2
        }
      ]
    },
    {
      "cell_type": "code",
      "source": [
        "type(d)"
      ],
      "metadata": {
        "colab": {
          "base_uri": "https://localhost:8080/"
        },
        "id": "PpkwARRsvQpC",
        "outputId": "6c69f410-a23f-46c8-a1ab-fc1b6900ab01"
      },
      "execution_count": 3,
      "outputs": [
        {
          "output_type": "execute_result",
          "data": {
            "text/plain": [
              "dict"
            ]
          },
          "metadata": {},
          "execution_count": 3
        }
      ]
    },
    {
      "cell_type": "code",
      "source": [
        "d={10:[10,20,30]}"
      ],
      "metadata": {
        "id": "zYXB6LA0vQm4"
      },
      "execution_count": 4,
      "outputs": []
    },
    {
      "cell_type": "code",
      "source": [
        "d"
      ],
      "metadata": {
        "id": "q6JPtAGAvQko"
      },
      "execution_count": null,
      "outputs": []
    },
    {
      "cell_type": "code",
      "source": [
        "### which datatype doesn`t support key declaration"
      ],
      "metadata": {
        "id": "nHs8SXy3vQib"
      },
      "execution_count": null,
      "outputs": []
    },
    {
      "cell_type": "code",
      "source": [
        "my_dict = {\n",
        "    \"name\": \"Alice\",\n",
        "    \"age\": 25,\n",
        "    \"location\": \"Bangalore\"\n",
        "}"
      ],
      "metadata": {
        "id": "h_SJoGRhvQgg"
      },
      "execution_count": 5,
      "outputs": []
    },
    {
      "cell_type": "code",
      "source": [
        "my_dict[\"location\"]"
      ],
      "metadata": {
        "colab": {
          "base_uri": "https://localhost:8080/",
          "height": 35
        },
        "id": "V06TMoY7vQee",
        "outputId": "c6431d2c-4ecb-46f5-f170-3a31fbbddc00"
      },
      "execution_count": 6,
      "outputs": [
        {
          "output_type": "execute_result",
          "data": {
            "text/plain": [
              "'Bangalore'"
            ],
            "application/vnd.google.colaboratory.intrinsic+json": {
              "type": "string"
            }
          },
          "metadata": {},
          "execution_count": 6
        }
      ]
    },
    {
      "cell_type": "code",
      "source": [
        "my_dict"
      ],
      "metadata": {
        "colab": {
          "base_uri": "https://localhost:8080/"
        },
        "id": "dcuD1q-yvQcH",
        "outputId": "057caafa-4174-4e13-f676-2cbc61f24d91"
      },
      "execution_count": 7,
      "outputs": [
        {
          "output_type": "execute_result",
          "data": {
            "text/plain": [
              "{'name': 'Alice', 'age': 25, 'location': 'Bangalore'}"
            ]
          },
          "metadata": {},
          "execution_count": 7
        }
      ]
    },
    {
      "cell_type": "code",
      "source": [
        "mixed_dict = {\n",
        "    \"name\": \"Alice\",                # str key -> str value\n",
        "    101: [80, 85, 90],              # int key -> list value\n",
        "    3.14: {\"unit\": \"pi\"},           # float key -> dict value\n",
        "    True: \"Active\"}"
      ],
      "metadata": {
        "id": "MuckofEhvQaO"
      },
      "execution_count": 8,
      "outputs": []
    },
    {
      "cell_type": "code",
      "source": [
        "mixed_dict"
      ],
      "metadata": {
        "colab": {
          "base_uri": "https://localhost:8080/"
        },
        "id": "QqvUueVdvQYD",
        "outputId": "6e766d84-f697-409a-bddc-7806de7aba36"
      },
      "execution_count": 9,
      "outputs": [
        {
          "output_type": "execute_result",
          "data": {
            "text/plain": [
              "{'name': 'Alice', 101: [80, 85, 90], 3.14: {'unit': 'pi'}, True: 'Active'}"
            ]
          },
          "metadata": {},
          "execution_count": 9
        }
      ]
    },
    {
      "cell_type": "code",
      "source": [
        "mixed_dict[101][-1]"
      ],
      "metadata": {
        "colab": {
          "base_uri": "https://localhost:8080/"
        },
        "id": "IkcQsNEBvlat",
        "outputId": "d2362083-2d79-45c8-be2b-e94685a2b84d"
      },
      "execution_count": 10,
      "outputs": [
        {
          "output_type": "execute_result",
          "data": {
            "text/plain": [
              "90"
            ]
          },
          "metadata": {},
          "execution_count": 10
        }
      ]
    },
    {
      "cell_type": "code",
      "source": [
        "employee = {\n",
        "    \"id\": 1007,\n",
        "    \"name\": \"Priya Sharma\",\n",
        "    \"department\": {\n",
        "        \"name\": \"Data Science\",\n",
        "        \"location\": \"Hyderabad\",\n",
        "        \"floor\": 3\n",
        "    },\n",
        "    \"is_active\": True\n",
        "}"
      ],
      "metadata": {
        "id": "hwykEEfsvQV4"
      },
      "execution_count": 11,
      "outputs": []
    },
    {
      "cell_type": "code",
      "source": [
        "employee['department']['location']"
      ],
      "metadata": {
        "colab": {
          "base_uri": "https://localhost:8080/",
          "height": 35
        },
        "id": "-DpckqRgvQUM",
        "outputId": "ba6e1aa6-3dc0-4862-a4bd-245e1d4fe44d"
      },
      "execution_count": 12,
      "outputs": [
        {
          "output_type": "execute_result",
          "data": {
            "text/plain": [
              "'Hyderabad'"
            ],
            "application/vnd.google.colaboratory.intrinsic+json": {
              "type": "string"
            }
          },
          "metadata": {},
          "execution_count": 12
        }
      ]
    },
    {
      "cell_type": "code",
      "source": [
        "mixed_dict = {\n",
        "    \"name\": \"Alice\",                # str key -> str value\n",
        "    101: [80, 85, 90],              # int key -> list value\n",
        "    3.14: {\"unit\": \"pi\"},           # float key -> dict value\n",
        "    True: \"Active\",                 # bool key -> str value\n",
        "    None: 0,                        # NoneType key -> int value\n",
        "    (1, 2): \"tuple_key\",            # tuple key -> str value\n",
        "    \"details\": {\n",
        "        \"age\": 30,\n",
        "        \"city\": \"Bangalore\"\n",
        "    },                              # str key -> nested dict\n",
        "    \"scores\": (95, 87, 78),         # str key -> tuple value\n",
        "    \"is_verified\": False,          # str key -> bool value\n",
        "    \"height\": 5.9                  # str key -> float value\n",
        "}"
      ],
      "metadata": {
        "id": "_FD_Xd3pvQSO"
      },
      "execution_count": null,
      "outputs": []
    },
    {
      "cell_type": "code",
      "source": [
        "temp={\n",
        "   \"lat\":33.44,\n",
        "   \"lon\":-94.04,\n",
        "   \"timezone\":\"America/Chicago\",\n",
        "   \"timezone_offset\":-18000,\n",
        "   \"current\":{\n",
        "      \"dt\":1684929490,\n",
        "      \"sunrise\":1684926645,\n",
        "      \"sunset\":1684977332,\n",
        "      \"temp\":292.55,\n",
        "      \"feels_like\":292.87,\n",
        "      \"pressure\":1014,\n",
        "      \"humidity\":89,\n",
        "      \"dew_point\":290.69,\n",
        "      \"uvi\":0.16,\n",
        "      \"clouds\":53,\n",
        "      \"visibility\":10000,\n",
        "      \"wind_speed\":3.13,\n",
        "      \"wind_deg\":93,\n",
        "      \"wind_gust\":6.71,\n",
        "      \"weather\":[\n",
        "         {\n",
        "            \"id\":803,\n",
        "            \"main\":\"Clouds\",\n",
        "            \"description\":\"broken clouds\",\n",
        "            \"icon\":\"04d\"\n",
        "         }\n",
        "      ]\n",
        "   } }"
      ],
      "metadata": {
        "id": "qC0Q3hucvQP5"
      },
      "execution_count": 13,
      "outputs": []
    },
    {
      "cell_type": "code",
      "source": [
        "temp"
      ],
      "metadata": {
        "colab": {
          "base_uri": "https://localhost:8080/"
        },
        "id": "knI0mTfgvQN3",
        "outputId": "78be2e32-4351-4d49-a1ac-b92ba098c8c3"
      },
      "execution_count": 14,
      "outputs": [
        {
          "output_type": "execute_result",
          "data": {
            "text/plain": [
              "{'lat': 33.44,\n",
              " 'lon': -94.04,\n",
              " 'timezone': 'America/Chicago',\n",
              " 'timezone_offset': -18000,\n",
              " 'current': {'dt': 1684929490,\n",
              "  'sunrise': 1684926645,\n",
              "  'sunset': 1684977332,\n",
              "  'temp': 292.55,\n",
              "  'feels_like': 292.87,\n",
              "  'pressure': 1014,\n",
              "  'humidity': 89,\n",
              "  'dew_point': 290.69,\n",
              "  'uvi': 0.16,\n",
              "  'clouds': 53,\n",
              "  'visibility': 10000,\n",
              "  'wind_speed': 3.13,\n",
              "  'wind_deg': 93,\n",
              "  'wind_gust': 6.71,\n",
              "  'weather': [{'id': 803,\n",
              "    'main': 'Clouds',\n",
              "    'description': 'broken clouds',\n",
              "    'icon': '04d'}]}}"
            ]
          },
          "metadata": {},
          "execution_count": 14
        }
      ]
    },
    {
      "cell_type": "code",
      "source": [
        "temp['current']['weather'][0]['icon']"
      ],
      "metadata": {
        "colab": {
          "base_uri": "https://localhost:8080/",
          "height": 35
        },
        "id": "i9xLdhgPvQLd",
        "outputId": "b957efae-236c-4b74-a298-a85b083c4925"
      },
      "execution_count": 15,
      "outputs": [
        {
          "output_type": "execute_result",
          "data": {
            "text/plain": [
              "'04d'"
            ],
            "application/vnd.google.colaboratory.intrinsic+json": {
              "type": "string"
            }
          },
          "metadata": {},
          "execution_count": 15
        }
      ]
    },
    {
      "cell_type": "code",
      "source": [
        "temp"
      ],
      "metadata": {
        "colab": {
          "base_uri": "https://localhost:8080/"
        },
        "id": "9VCY82HqvQJk",
        "outputId": "53a505de-d860-4583-ce29-2e6f8726a08b"
      },
      "execution_count": 16,
      "outputs": [
        {
          "output_type": "execute_result",
          "data": {
            "text/plain": [
              "{'lat': 33.44,\n",
              " 'lon': -94.04,\n",
              " 'timezone': 'America/Chicago',\n",
              " 'timezone_offset': -18000,\n",
              " 'current': {'dt': 1684929490,\n",
              "  'sunrise': 1684926645,\n",
              "  'sunset': 1684977332,\n",
              "  'temp': 292.55,\n",
              "  'feels_like': 292.87,\n",
              "  'pressure': 1014,\n",
              "  'humidity': 89,\n",
              "  'dew_point': 290.69,\n",
              "  'uvi': 0.16,\n",
              "  'clouds': 53,\n",
              "  'visibility': 10000,\n",
              "  'wind_speed': 3.13,\n",
              "  'wind_deg': 93,\n",
              "  'wind_gust': 6.71,\n",
              "  'weather': [{'id': 803,\n",
              "    'main': 'Clouds',\n",
              "    'description': 'broken clouds',\n",
              "    'icon': '04d'}]}}"
            ]
          },
          "metadata": {},
          "execution_count": 16
        }
      ]
    },
    {
      "cell_type": "code",
      "source": [
        "temp['current']['weather'][0]['main'].upper()"
      ],
      "metadata": {
        "colab": {
          "base_uri": "https://localhost:8080/",
          "height": 35
        },
        "id": "rOKNL0LmvQHb",
        "outputId": "c2a6cdd7-1c15-4fa8-9514-eb9e1c3ad884"
      },
      "execution_count": 17,
      "outputs": [
        {
          "output_type": "execute_result",
          "data": {
            "text/plain": [
              "'CLOUDS'"
            ],
            "application/vnd.google.colaboratory.intrinsic+json": {
              "type": "string"
            }
          },
          "metadata": {},
          "execution_count": 17
        }
      ]
    },
    {
      "cell_type": "code",
      "source": [
        "temp['current']['wind_speed']"
      ],
      "metadata": {
        "colab": {
          "base_uri": "https://localhost:8080/"
        },
        "id": "07n6FNXDvQFX",
        "outputId": "e3a12daa-2399-4326-9c8b-b1c9380e95d9"
      },
      "execution_count": 18,
      "outputs": [
        {
          "output_type": "execute_result",
          "data": {
            "text/plain": [
              "3.13"
            ]
          },
          "metadata": {},
          "execution_count": 18
        }
      ]
    },
    {
      "cell_type": "code",
      "source": [
        "d = {\n",
        "    \"name\": \"Alice\",\n",
        "    \"age\": 25,\n",
        "    \"location\": \"Bangalore\"\n",
        "}\n"
      ],
      "metadata": {
        "id": "5BsqrIJSvQDH"
      },
      "execution_count": 19,
      "outputs": []
    },
    {
      "cell_type": "code",
      "source": [
        "d.values()"
      ],
      "metadata": {
        "colab": {
          "base_uri": "https://localhost:8080/"
        },
        "id": "VQ_d0wH-vP84",
        "outputId": "d249df80-2081-4421-852d-f933bf2d00fe"
      },
      "execution_count": 20,
      "outputs": [
        {
          "output_type": "execute_result",
          "data": {
            "text/plain": [
              "dict_values(['Alice', 25, 'Bangalore'])"
            ]
          },
          "metadata": {},
          "execution_count": 20
        }
      ]
    },
    {
      "cell_type": "code",
      "source": [
        "temp.values()"
      ],
      "metadata": {
        "colab": {
          "base_uri": "https://localhost:8080/"
        },
        "id": "TgAEmd3GvPsy",
        "outputId": "072c679c-63c4-474b-b322-3e0805d60139"
      },
      "execution_count": 21,
      "outputs": [
        {
          "output_type": "execute_result",
          "data": {
            "text/plain": [
              "dict_values([33.44, -94.04, 'America/Chicago', -18000, {'dt': 1684929490, 'sunrise': 1684926645, 'sunset': 1684977332, 'temp': 292.55, 'feels_like': 292.87, 'pressure': 1014, 'humidity': 89, 'dew_point': 290.69, 'uvi': 0.16, 'clouds': 53, 'visibility': 10000, 'wind_speed': 3.13, 'wind_deg': 93, 'wind_gust': 6.71, 'weather': [{'id': 803, 'main': 'Clouds', 'description': 'broken clouds', 'icon': '04d'}]}])"
            ]
          },
          "metadata": {},
          "execution_count": 21
        }
      ]
    },
    {
      "cell_type": "code",
      "source": [
        "d.keys()"
      ],
      "metadata": {
        "colab": {
          "base_uri": "https://localhost:8080/"
        },
        "id": "5GZ3gXBGvPn3",
        "outputId": "d88494a9-e290-4be3-c383-0af287200aa6"
      },
      "execution_count": 22,
      "outputs": [
        {
          "output_type": "execute_result",
          "data": {
            "text/plain": [
              "dict_keys(['name', 'age', 'location'])"
            ]
          },
          "metadata": {},
          "execution_count": 22
        }
      ]
    },
    {
      "cell_type": "code",
      "source": [
        "d.items()"
      ],
      "metadata": {
        "colab": {
          "base_uri": "https://localhost:8080/"
        },
        "id": "hci0NRBevPlX",
        "outputId": "9a0914c9-f4f1-4b84-84b7-aecfd24813cf"
      },
      "execution_count": 23,
      "outputs": [
        {
          "output_type": "execute_result",
          "data": {
            "text/plain": [
              "dict_items([('name', 'Alice'), ('age', 25), ('location', 'Bangalore')])"
            ]
          },
          "metadata": {},
          "execution_count": 23
        }
      ]
    },
    {
      "cell_type": "code",
      "source": [
        "d"
      ],
      "metadata": {
        "colab": {
          "base_uri": "https://localhost:8080/"
        },
        "id": "MKm5OWV7vPjN",
        "outputId": "77f48591-c671-4066-f393-36fa44d7067c"
      },
      "execution_count": 24,
      "outputs": [
        {
          "output_type": "execute_result",
          "data": {
            "text/plain": [
              "{'name': 'Alice', 'age': 25, 'location': 'Bangalore'}"
            ]
          },
          "metadata": {},
          "execution_count": 24
        }
      ]
    },
    {
      "cell_type": "code",
      "source": [
        "d.get(\"age\")"
      ],
      "metadata": {
        "colab": {
          "base_uri": "https://localhost:8080/"
        },
        "id": "FiGidHF_wT-o",
        "outputId": "47804855-cdbe-43c2-bf2c-4a9601482932"
      },
      "execution_count": 25,
      "outputs": [
        {
          "output_type": "execute_result",
          "data": {
            "text/plain": [
              "25"
            ]
          },
          "metadata": {},
          "execution_count": 25
        }
      ]
    },
    {
      "cell_type": "code",
      "source": [
        "d['name']"
      ],
      "metadata": {
        "colab": {
          "base_uri": "https://localhost:8080/",
          "height": 35
        },
        "id": "ODuSv4PzwT8h",
        "outputId": "4eb959c6-b28a-4bfa-b1ac-5c867fc4d5cd"
      },
      "execution_count": 26,
      "outputs": [
        {
          "output_type": "execute_result",
          "data": {
            "text/plain": [
              "'Alice'"
            ],
            "application/vnd.google.colaboratory.intrinsic+json": {
              "type": "string"
            }
          },
          "metadata": {},
          "execution_count": 26
        }
      ]
    },
    {
      "cell_type": "code",
      "source": [
        "d"
      ],
      "metadata": {
        "colab": {
          "base_uri": "https://localhost:8080/"
        },
        "id": "8I_rIR2swT6b",
        "outputId": "36b5cf45-c588-464c-a888-29ac70ece81e"
      },
      "execution_count": 27,
      "outputs": [
        {
          "output_type": "execute_result",
          "data": {
            "text/plain": [
              "{'name': 'Alice', 'age': 25, 'location': 'Bangalore'}"
            ]
          },
          "metadata": {},
          "execution_count": 27
        }
      ]
    },
    {
      "cell_type": "code",
      "source": [
        "d.update({\"name\":\"abc\"})"
      ],
      "metadata": {
        "id": "8rTkzNnywT2j"
      },
      "execution_count": 29,
      "outputs": []
    },
    {
      "cell_type": "code",
      "source": [
        "d"
      ],
      "metadata": {
        "colab": {
          "base_uri": "https://localhost:8080/"
        },
        "id": "gkj0g7yJwTyX",
        "outputId": "18374a55-be0d-4280-e845-bdaa46e2bebb"
      },
      "execution_count": 30,
      "outputs": [
        {
          "output_type": "execute_result",
          "data": {
            "text/plain": [
              "{'name': 'abc', 'age': 25, 'location': 'Bangalore'}"
            ]
          },
          "metadata": {},
          "execution_count": 30
        }
      ]
    },
    {
      "cell_type": "code",
      "source": [
        "d.pop('age')"
      ],
      "metadata": {
        "colab": {
          "base_uri": "https://localhost:8080/"
        },
        "id": "reTbSTF8wTvc",
        "outputId": "7f33ddf8-74a3-425c-a612-d5ac469409ea"
      },
      "execution_count": 31,
      "outputs": [
        {
          "output_type": "execute_result",
          "data": {
            "text/plain": [
              "25"
            ]
          },
          "metadata": {},
          "execution_count": 31
        }
      ]
    },
    {
      "cell_type": "code",
      "source": [
        "d"
      ],
      "metadata": {
        "colab": {
          "base_uri": "https://localhost:8080/"
        },
        "id": "IANp5pJzwTtY",
        "outputId": "e117335a-e389-43e4-c906-9b9ca9685259"
      },
      "execution_count": 32,
      "outputs": [
        {
          "output_type": "execute_result",
          "data": {
            "text/plain": [
              "{'name': 'abc', 'location': 'Bangalore'}"
            ]
          },
          "metadata": {},
          "execution_count": 32
        }
      ]
    },
    {
      "cell_type": "code",
      "source": [
        "d.items()"
      ],
      "metadata": {
        "colab": {
          "base_uri": "https://localhost:8080/"
        },
        "id": "nHIdN1gBwTrQ",
        "outputId": "fa013285-f649-4f5d-f103-77896a0cc797"
      },
      "execution_count": 33,
      "outputs": [
        {
          "output_type": "execute_result",
          "data": {
            "text/plain": [
              "dict_items([('name', 'abc'), ('location', 'Bangalore')])"
            ]
          },
          "metadata": {},
          "execution_count": 33
        }
      ]
    },
    {
      "cell_type": "code",
      "source": [
        "d.clear()"
      ],
      "metadata": {
        "id": "KTVLetgewTo5"
      },
      "execution_count": 34,
      "outputs": []
    },
    {
      "cell_type": "code",
      "source": [
        "del d"
      ],
      "metadata": {
        "id": "N3FHfk0nwmJP"
      },
      "execution_count": 35,
      "outputs": []
    },
    {
      "cell_type": "code",
      "source": [],
      "metadata": {
        "id": "SGH8si_BwmHh"
      },
      "execution_count": null,
      "outputs": []
    },
    {
      "cell_type": "code",
      "source": [],
      "metadata": {
        "id": "BB5pBJdZwmFl"
      },
      "execution_count": null,
      "outputs": []
    },
    {
      "cell_type": "code",
      "source": [],
      "metadata": {
        "id": "PCnGFQcFwmDV"
      },
      "execution_count": null,
      "outputs": []
    },
    {
      "cell_type": "code",
      "source": [],
      "metadata": {
        "id": "MpyACgkpwmBa"
      },
      "execution_count": null,
      "outputs": []
    },
    {
      "cell_type": "code",
      "source": [],
      "metadata": {
        "id": "pUjB6b3Ewl_S"
      },
      "execution_count": null,
      "outputs": []
    },
    {
      "cell_type": "code",
      "source": [],
      "metadata": {
        "id": "1DC6mKRzwl9A"
      },
      "execution_count": null,
      "outputs": []
    },
    {
      "cell_type": "code",
      "source": [],
      "metadata": {
        "id": "fH9_JxYtwTmc"
      },
      "execution_count": null,
      "outputs": []
    }
  ]
}